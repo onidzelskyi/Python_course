{
 "cells": [
  {
   "cell_type": "markdown",
   "metadata": {},
   "source": [
    "Installation Django\n",
    "==\n",
    "    pip install django\n",
    "    \n",
    "Check installation\n",
    "==\n",
    "\n",
    "    pytoh -m django\n",
    "    \n",
    "Fisrt project\n",
    "==\n",
    "\n",
    "    mkdir project1\n",
    "    cd project1\n",
    "    django-admin.py startproject project1\n",
    "    cd project1\n",
    "    python manage.py runserver 127.0.0.1:7777\n",
    "    \n",
    "    next, open browser window and navigate to \n",
    "    \n",
    "        127.0.0.1:7777\n",
    "        \n",
    "Adjust the configuration\n",
    "==\n",
    "\n",
    "    Configuration saved in the file\n",
    "    \n",
    "        settings.py\n",
    "        \n",
    "Development Webserver\n",
    "==\n",
    "\n",
    "The first own page\n",
    "--\n",
    "\n",
    "Create a template\n",
    "--\n",
    "\n",
    "    mkdir templates\n",
    "    vim templates/base.html\n",
    "    \n",
    "    <!doctype html>\n",
    "    <html>\n",
    "    <head>\n",
    "        <meta charset=\"utf-8\">\n",
    "        <title>Demo</title>\n",
    "    </head>\n",
    "    <body>\n",
    "        <h1>Demo</h1>\n",
    "    </body>\n",
    "    </html>\n",
    "    \n",
    "    vim project1/urls.py\n",
    "    from django.views.generic.base import TemplateView"
   ]
  },
  {
   "cell_type": "code",
   "execution_count": null,
   "metadata": {
    "collapsed": true
   },
   "outputs": [],
   "source": []
  }
 ],
 "metadata": {
  "kernelspec": {
   "display_name": "Python 2",
   "language": "python",
   "name": "python2"
  },
  "language_info": {
   "codemirror_mode": {
    "name": "ipython",
    "version": 2
   },
   "file_extension": ".py",
   "mimetype": "text/x-python",
   "name": "python",
   "nbconvert_exporter": "python",
   "pygments_lexer": "ipython2",
   "version": "2.7.10"
  }
 },
 "nbformat": 4,
 "nbformat_minor": 0
}
