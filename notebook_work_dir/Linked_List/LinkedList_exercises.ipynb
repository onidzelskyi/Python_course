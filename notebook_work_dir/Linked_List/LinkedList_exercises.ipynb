{
 "cells": [
  {
   "cell_type": "markdown",
   "metadata": {},
   "source": [
    "implement methods\n",
    "==\n",
    "    append\n",
    "    __add__\n",
    "    extend\n",
    "    intersect\n",
    "    sort\n",
    "    merge"
   ]
  },
  {
   "cell_type": "code",
   "execution_count": null,
   "metadata": {
    "collapsed": false
   },
   "outputs": [],
   "source": [
    "class Node(object):\n",
    "    # Type your code here\n",
    "    pass\n",
    "    \n",
    "    \n",
    "class LinkedList(object):\n",
    "    # Type your code here\n",
    "    pass"
   ]
  },
  {
   "cell_type": "code",
   "execution_count": null,
   "metadata": {
    "collapsed": false
   },
   "outputs": [],
   "source": [
    "# Tests\n",
    "# 1. L1 + L2\n",
    "# L1 and L2 - empty lists\n",
    "print(\"Test 1\")\n",
    "L1 = LinkedList()\n",
    "L2 = LinkedList()\n",
    "L3 = L1 + L2\n",
    "#L3.printList() # []\n",
    "\n",
    "# 2. L1 + L2\n",
    "# L1 - empty list and L2 - non-empty list\n",
    "print(\"Test 2\")\n",
    "L1 = LinkedList()\n",
    "L2 = LinkedList()\n",
    "L2.append(2)\n",
    "L2.append(4)\n",
    "L3 = L1 + L2\n",
    "#L3.printList() # [2, 4]\n",
    "\n",
    "# 3. L1 + L2\n",
    "# L1 - non-empty list and L2 - empty list \n",
    "print(\"Test 3\")\n",
    "L1 = LinkedList()\n",
    "L1.append(1)\n",
    "L1.append(3)\n",
    "L2 = LinkedList()\n",
    "L3 = L1 + L2\n",
    "#L3.printList() # [1, 3]\n",
    "\n",
    "# 4. L1 + L2\n",
    "# L1 and L2 - non-empty lists\n",
    "print(\"Test 4\")\n",
    "L1 = LinkedList()\n",
    "L1.append(1)\n",
    "L1.append(3)\n",
    "L2 = LinkedList()\n",
    "L2.append(2)\n",
    "L2.append(4)\n",
    "L3 = L1 + L2\n",
    "#L3.printList() # [1, 3, 2, 4]\n",
    "\n",
    "# 5. Extend one LinkedList by another\n",
    "# L1 and L2 - empty lists\n",
    "print(\"Test 5\")\n",
    "L1 = LinkedList()\n",
    "L2 = LinkedList()\n",
    "L1.extend(L2)\n",
    "#L1.printList() # []\n",
    "\n",
    "# 6. L1 + L2\n",
    "# L1 - empty list and L2 - non-empty list\n",
    "print(\"Test 6\")\n",
    "L1 = LinkedList()\n",
    "L2 = LinkedList()\n",
    "L2.append(2)\n",
    "L2.append(4)\n",
    "L1.extend(L2)\n",
    "#L1.printList() # [2, 4]\n",
    "\n",
    "# 7. L1 + L2\n",
    "# L1 - non-empty list and L2 - empty list \n",
    "print(\"Test 7\")\n",
    "L1 = LinkedList()\n",
    "L1.append(1)\n",
    "L1.append(3)\n",
    "L2 = LinkedList()\n",
    "L1.extend(L2)\n",
    "#L1.printList() # [1, 3]\n",
    "\n",
    "# 8. L1 + L2\n",
    "# L1 and L2 - non-empty lists\n",
    "print(\"Test 8\")\n",
    "L1 = LinkedList()\n",
    "L1.append(1)\n",
    "L1.append(3)\n",
    "L2 = LinkedList()\n",
    "L2.append(2)\n",
    "L2.append(4)\n",
    "L1.extend(L2)\n",
    "L1.printList() # [1, 3, 2, 4]\n"
   ]
  },
  {
   "cell_type": "code",
   "execution_count": null,
   "metadata": {
    "collapsed": true
   },
   "outputs": [],
   "source": []
  }
 ],
 "metadata": {
  "kernelspec": {
   "display_name": "Python 3",
   "language": "python",
   "name": "python3"
  },
  "language_info": {
   "codemirror_mode": {
    "name": "ipython",
    "version": 3
   },
   "file_extension": ".py",
   "mimetype": "text/x-python",
   "name": "python",
   "nbconvert_exporter": "python",
   "pygments_lexer": "ipython3",
   "version": "3.4.3+"
  }
 },
 "nbformat": 4,
 "nbformat_minor": 0
}
