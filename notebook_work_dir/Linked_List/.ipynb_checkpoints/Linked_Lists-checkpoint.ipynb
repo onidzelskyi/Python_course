{
 "cells": [
  {
   "cell_type": "markdown",
   "metadata": {},
   "source": [
    "# 1. Embedded references\n",
    "\n",
    "<pre>\n",
    "Ранее были рассмотрены примеры атрибутов, которые относятся к другим объектам, называемые встроенными ссылками.\n",
    "Наибольшее распространение получила структуры данных, связный список, основанный на данном свойстве.\n",
    "\n",
    "Связанные списки состоят из узлов (nodes), где каждый узел содержит ссылку на следующий узел в списке.\n",
    "Кроме того, каждый узел содержит блок данных.\n",
    "\n",
    "Связанный список считается рекурсивной структурой данных, поскольку он имеет рекурсивное определение.\n",
    "\n",
    "К связанным спискам относятся:\n",
    "\n",
    "    • пустой список None\n",
    "    • узел, который содержит данные и ссылку на связанный список.\n",
    "    \n",
    "Рекурсивные структуры данных чаще всего обрабатываются рекурсивными методами.\n",
    "</pre>\n",
    "\n",
    "# 2. The Node class\n",
    "\n",
    "<pre>\n",
    "Как обычно написание нового класса начинается с \n",
    "\n",
    "    __init__ и __str__ методов\n",
    "    \n",
    "таким образом, можно протестировать основной механизм создания и отображения нового типа:\n",
    "</pre>"
   ]
  },
  {
   "cell_type": "code",
   "execution_count": null,
   "metadata": {
    "collapsed": true
   },
   "outputs": [],
   "source": [
    "class Node:\n",
    "    def __init__(self, data=None, next=None):\n",
    "        self.data = data\n",
    "        self.next  = next\n",
    "\n",
    "    def __str__(self):\n",
    "        return str(self.data)\n",
    "\n",
    "    def __repr__(self):\n",
    "        return str(self.data)    "
   ]
  },
  {
   "cell_type": "markdown",
   "metadata": {},
   "source": [
    "<pre>\n",
    "Как обычно, параметры метода инициализации являются необязательными.\n",
    "По умолчанию, data и next выставлены в None.\n",
    "\n",
    "Строковое представление узла является только лишь строковым представление данных узла.\n",
    "Так как любое значение может быть передано функции str, мы можем хранить любые данные в списке.\n",
    "Чтобы проверить данную реализацию, можно создать Node и распечатать его:\n",
    "</pre>"
   ]
  },
  {
   "cell_type": "code",
   "execution_count": null,
   "metadata": {
    "collapsed": false
   },
   "outputs": [],
   "source": [
    "node = Node(\"test\")\n",
    "node2 = Node()\n",
    "print(node)\n",
    "print(node2)"
   ]
  },
  {
   "cell_type": "markdown",
   "metadata": {},
   "source": [
    "<pre>\n",
    "Если создать список с более чем одним узлом, картина станет интереснее:\n",
    "</pre>"
   ]
  },
  {
   "cell_type": "code",
   "execution_count": null,
   "metadata": {
    "collapsed": true
   },
   "outputs": [],
   "source": [
    "node1 = Node(1)\n",
    "node2 = Node(2)\n",
    "node3 = Node(3)"
   ]
  },
  {
   "cell_type": "markdown",
   "metadata": {},
   "source": [
    "<pre>\n",
    "Данный код создал три узла, однако, они еще не являются связным списоком потому, что узлы не связаны между собой. \n",
    "\n",
    "Диаграмма состояния выглядит следующим образом:\n",
    "</pre>\n",
    "\n",
    "<img src=\"nodes.png\"/>\n",
    "\n",
    "<pre>\n",
    "Чтобы связать узлы, мы должны заставить первый узел указывать на второй а второй узел указывать на третий:\n",
    "</pre>"
   ]
  },
  {
   "cell_type": "code",
   "execution_count": null,
   "metadata": {
    "collapsed": true
   },
   "outputs": [],
   "source": [
    "node1.next = node2\n",
    "node2.next = node3"
   ]
  },
  {
   "cell_type": "markdown",
   "metadata": {},
   "source": [
    "<pre>\n",
    "Ссылка на третьем узле равна None, который указывает, что это конец списка.\n",
    "Теперь диаграмма состояний выглядит следующим образом:\n",
    "</pre>\n",
    "\n",
    "<img src=\"linked_list.png\"/>\n",
    "\n",
    "<pre>\n",
    "Теперь нам известно, как создать узлы (nodes) и связывать их в списки.\n",
    "Зачем это нужно?\n",
    "</pre>\n",
    "\n",
    "# 3. Lists as collections\n",
    "\n",
    "<pre>\n",
    "Списки являются полезными, поскольку они дают возможность собрать несколько предметов в единое целое,\n",
    "иногда называемым коллекцией.\n",
    "\n",
    "В данном примере первый узел списка является ссылкой на весь список.\n",
    "\n",
    "Чтобы передать список в качестве аргумента, мы должны только передать ссылку на первый node.\n",
    "Например, функция printList принимает один node в качестве аргумента. \n",
    "Начиная с головы списка (head of the list), она печатает каждый node, пока он не доходит до конца:\n",
    "</pre>"
   ]
  },
  {
   "cell_type": "code",
   "execution_count": null,
   "metadata": {
    "collapsed": false
   },
   "outputs": [],
   "source": [
    "def printList(node):\n",
    "    # Type your code here\n",
    "    pass"
   ]
  },
  {
   "cell_type": "markdown",
   "metadata": {},
   "source": [
    "<pre>\n",
    "Чтобы вызвать эту функцию, мы передаем ссылку на первый узел (node):\n",
    "</pre>"
   ]
  },
  {
   "cell_type": "code",
   "execution_count": null,
   "metadata": {
    "collapsed": false
   },
   "outputs": [],
   "source": [
    "printList(node1)"
   ]
  },
  {
   "cell_type": "markdown",
   "metadata": {},
   "source": [
    "<pre>\n",
    "Внутри printList у нас есть ссылка на первый узел списка,\n",
    "но нет ни одной переменной, которая ссылается на другие узлы.\n",
    "Мы используем следующее значение из каждого узла, чтобы обратиться к следующему узлу.\n",
    "\n",
    "Для обхода связанного списока чаще всего используется переменная node для обращения к каждому из узлов по очереди.\n",
    "\n",
    "Следующая диаграмма показывает узлы в списке и значения, которые они принимают:\n",
    "</pre>\n",
    "\n",
    "<img src=\"traversal.png\"/>\n",
    "\n",
    "<pre>\n",
    "По соглашению, списки часто отображаются в квадратных скобках с запятыми между элементами, например  \n",
    "\n",
    "    [1, 2, 3]\n",
    "    \n",
    "В качестве упражнения, измените printList таким образом, чтобы он генерировал вывод в таком формате.\n",
    "</pre>"
   ]
  },
  {
   "cell_type": "code",
   "execution_count": null,
   "metadata": {
    "collapsed": false
   },
   "outputs": [],
   "source": [
    "# Paste your code here\n",
    "def printList(node):\n",
    "    pass\n",
    "\n",
    "# Test your code\n",
    "printList(node1) # [1, 2, 3]"
   ]
  },
  {
   "cell_type": "markdown",
   "metadata": {},
   "source": [
    "# 4. Lists and recursion\n",
    "\n",
    "<pre>\n",
    "Зачастую операции со связными списками реализованы с использованием рекурсивных методов.\n",
    "Ниже описан рекурсивный алгоритм для печати списка в обратном направлении:\n",
    "\n",
    "    1. Разделить список на две части:\n",
    "        первый узел (так называемый head) \n",
    "        и остальные узлы списка (так называемый tail).\n",
    "    2. Распечатать tail в обратном порядке. \n",
    "    3. Распечатать head.\n",
    "\n",
    "В данном алгоритме шаг 2 является рекурсивным вызовом, что предполагает, \n",
    "что у нас есть способ печати списка в обратном направлении.\n",
    "\n",
    "При реализации рекурсивного алгоритма печати списка в обратном направлении мы должны учесть ситуацию, когда список пустой:\n",
    "</pre>"
   ]
  },
  {
   "cell_type": "code",
   "execution_count": null,
   "metadata": {
    "collapsed": true
   },
   "outputs": [],
   "source": [
    "def printBackward(list):\n",
    "    # Type your code here\n",
    "    pass"
   ]
  },
  {
   "cell_type": "markdown",
   "metadata": {},
   "source": [
    "<pre>\n",
    "Мы вызываем данную функцию точно так же, как мы вызывали printList:\n",
    "</pre>"
   ]
  },
  {
   "cell_type": "code",
   "execution_count": null,
   "metadata": {
    "collapsed": false
   },
   "outputs": [],
   "source": [
    "printBackward(node1)"
   ]
  },
  {
   "cell_type": "markdown",
   "metadata": {},
   "source": [
    "<pre>\n",
    "В результате мы получили список в обратном порядке.\n",
    "\n",
    "Вы могли бы задаться вопросом, почему printList и printBackward\n",
    "являются функциями, а не методами класса Node.\n",
    "\n",
    "Причина в том, что мы хотим использовать None в качестве представления пустого списка\n",
    "а мы не можем вызвать методы None.\n",
    "\n",
    "Данное ограничение затрудняет манипулирование списком в чисто объектно-ориентированном стиле.\n",
    "\n",
    "Можем ли мы доказать, что printBackward всегда будет завершаться?\n",
    "Другими словами, будет ли всегда наступать базовый случай?\n",
    "На самом деле, нет. Некоторые списки могут заставить данную функцию вести непредсказуемо.\n",
    "</pre>\n",
    "\n",
    "# 5. Infinite lists\n",
    "\n",
    "<pre>\n",
    "Не существует способа, чтобы предотвратить узел от ссылки на предыдущие узлы в списке,\n",
    "в том числе на самого себя.\n",
    "\n",
    "Например, эта диаграмма состояний показывает список с двумя узлами, один из которых указывает на себя:\n",
    "</pre>\n",
    "\n",
    "<img src=\"loop.png\"/>\n",
    "\n",
    "<pre>\n",
    "Если мы вызовем printList для этого списка, то получится бесконечный цикл.\n",
    "Если мы вызываем printBackward, то получится  бесконечная рекурсия.\n",
    "Такая ситуация затрудняет работу с такого рода бесконечными списками.\n",
    "\n",
    "Тем не менее, они иногда полезны. \n",
    "Например, мы могли бы представлять числа в виде списка цифр и использовать бесконечный список, чтобы представлять повторяющуюся часть.\n",
    "\n",
    "Несмотря на это, существует проблема, так как мы не можем доказать,\n",
    "что printList и printBackward завершатся в конце концов.\n",
    "Лучшее, что мы можем сделать, это заявить: \"Если список не содержит ни одной петли, то эти функции в итоге завершатся.\"\n",
    "\n",
    "Такого рода условия называются предусловием.\n",
    "Оно накладывает ограничение на один из аргументов, и описывает поведение функции, если удовлетворяется ограничение.\n",
    "</pre>\n",
    "\n",
    "# 6. The fundamental ambiguity theorem\n",
    "\n",
    "<pre>\n",
    "Одна часть функции printBackward должна привлечь внимание:\n",
    "\n",
    "    head = list\n",
    "    tail = list.next\n",
    "    \n",
    "После первого присваивания, head и tail имеют один и тот же тип значение.\n",
    "Так зачем мы создали новую переменную?\n",
    "Причина в том, что две переменные играют разные роли.\n",
    "Мы рассматриваем, head в качестве ссылки на один узел,\n",
    "а list в качестве ссылки на первый узел списка.\n",
    "Эти «роли» не являются частью программы; они определяют ход мыслей программиста.\n",
    "\n",
    "В целом, нельзя сказать, глядя на программу, какую роль играет переменная.\n",
    "\n",
    "Мы могли бы переписать функцию printBackward без использования переменных head и tail, это делает его более кратким, но, возможно, менее понятным:    \n",
    "</pre>"
   ]
  },
  {
   "cell_type": "code",
   "execution_count": null,
   "metadata": {
    "collapsed": true
   },
   "outputs": [],
   "source": [
    "def printBackward(list) :\n",
    "    # Type your code here\n",
    "    pass"
   ]
  },
  {
   "cell_type": "markdown",
   "metadata": {},
   "source": [
    "<pre>\n",
    "Таким образом, переменная, ссылающаяся на узел, может трактоваться как единый объект или как первый объект в списке объектов.\n",
    "</pre>\n",
    "\n",
    "# 7. Modifying lists\n",
    "\n",
    "<pre>\n",
    "Существует два способа модифицирования связного списка.\n",
    "Одним из способов является возможность изменить данные одного из узлов,\n",
    "но более интересным способом являются тот, который добавляет, удаляет или изменяет порядок узлов.\n",
    "\n",
    "В качестве примера, давайте напишем функцию, которая удаляет второй узел из списка и возвращает ссылку на удаленный узел:\n",
    "</pre>"
   ]
  },
  {
   "cell_type": "code",
   "execution_count": null,
   "metadata": {
    "collapsed": true
   },
   "outputs": [],
   "source": [
    "def removeSecond(list):\n",
    "    # Type your code here\n",
    "    pass"
   ]
  },
  {
   "cell_type": "markdown",
   "metadata": {},
   "source": [
    "<pre>\n",
    "Пример использования этой функции:\n",
    "</pre>"
   ]
  },
  {
   "cell_type": "code",
   "execution_count": null,
   "metadata": {
    "collapsed": false
   },
   "outputs": [],
   "source": [
    "printList(node1)\n",
    "removed = removeSecond(node1)\n",
    "printList(removed)\n",
    "printList(node1)"
   ]
  },
  {
   "cell_type": "markdown",
   "metadata": {},
   "source": [
    "<pre>\n",
    "Диаграмма состояний отображает эффект операции\n",
    "</pre>\n",
    "\n",
    "<img src=\"removed.png\"/>\n",
    "\n",
    "<pre>\n",
    "Что произойдет, если вызвать эту функцию и передать ей список из одного элемента?\n",
    "Что произойдет, если передать пустой список в качестве аргумента? \n",
    "Существуют ли предусловия для успешного выполнения этой функции?\n",
    "</pre>\n",
    "\n",
    "# 8. Wrappers and helpers\n",
    "\n",
    "<pre>\n",
    "Часто бывает полезно разделить операцию над списком на две функции.\n",
    "Например, чтобы распечатать список в обратном порядке в формате \n",
    "\n",
    "    [3 2 1]\n",
    "\n",
    "мы можем использовать функцию printBackward для печати \n",
    "\n",
    "    3 2 1\n",
    "    \n",
    "но нам понадобится отдельная функция для печати скобок. Давайте назовем ее printBackwardNicely:\n",
    "</pre>"
   ]
  },
  {
   "cell_type": "code",
   "execution_count": null,
   "metadata": {
    "collapsed": true
   },
   "outputs": [],
   "source": [
    "def printBackwardNicely(list) :\n",
    "    # Type your code here\n",
    "    pass"
   ]
  },
  {
   "cell_type": "markdown",
   "metadata": {},
   "source": [
    "</pre>\n",
    "Опять же, хорошая идея проверить функцию, чтобы убедиться, что она работает с особыми случаями, такими как пустой список или список из одного элемента.\n",
    "\n",
    "Когда мы используем эту функцию, мы вызываем непосредственно printBackwardNicely,\n",
    "а она в свою очередь вызывает printBackward.\n",
    "\n",
    "В данном случае printBackwardNicely выступает в качестве оболочки, и использует printBackward в качестве вспомогательной функции.\n",
    "</pre>\n",
    "\n",
    "# 9. The LinkedList class\n",
    "\n",
    "<pre>\n",
    "Существуют некоторые тонкие проблемы с текущей реализацией списка.\n",
    "Предложим альтернативную реализацию, а затем объясним, какие проблемы она решает.\n",
    "\n",
    "Во-первых, мы создадим новый класс с именем LinkedList.\n",
    "Его атрибутами являются целое число, которое содержит длину списка и ссылка на первый узел.\n",
    "Объекты LinkedList служат инструментом для манипулирования списками объектов Node:\n",
    "</pre>"
   ]
  },
  {
   "cell_type": "code",
   "execution_count": null,
   "metadata": {
    "collapsed": true
   },
   "outputs": [],
   "source": [
    "class LinkedList :\n",
    "    def __init__(self) :\n",
    "        self.length = 0\n",
    "        self.head   = None"
   ]
  },
  {
   "cell_type": "markdown",
   "metadata": {},
   "source": [
    "<pre>\n",
    "Одним из достоинств класса LinkedList является то,\n",
    "что он обеспечивает соответствующее место для функции-обертки, такой как printBackwardNicely, \n",
    "которую мы можем сделать методом класса LinkedList:\n",
    "</pre>"
   ]
  },
  {
   "cell_type": "code",
   "execution_count": null,
   "metadata": {
    "collapsed": false
   },
   "outputs": [],
   "source": [
    "class LinkedList :\n",
    "    def __init__(self) :\n",
    "        self.length = 0\n",
    "        self.head   = None\n",
    "        \n",
    "    def printBackward(self):\n",
    "        # Type your code here\n",
    "        pass\n",
    "\n",
    "class Node:\n",
    "    def __init__(self, data=None, next=None):\n",
    "        self.data = data\n",
    "        self.next  = next\n",
    "\n",
    "    def __str__(self):\n",
    "        return str(self.data)\n",
    "    \n",
    "    def printBackward(self):\n",
    "        # Type your code here\n",
    "        pass"
   ]
  },
  {
   "cell_type": "markdown",
   "metadata": {},
   "source": [
    "<pre>\n",
    "Мы переименовали printBackwardNicely в printBackward.\n",
    "\n",
    "Теперь есть два метода printBackward:\n",
    "    один в классе Node (вспомогательный);\n",
    "    один в классе LinkedList (оболочка).\n",
    "\n",
    "Когда оболочка вызывает self.head.printBackward, осуществляется вызов вспомогательной функции,\n",
    "потому что self.head является объектом Node.\n",
    "\n",
    "Еще одним преимуществом класса LinkedList является то,\n",
    "что это делает легче добавление или удаление первого элемента списка.\n",
    "Например, AddFirst это метод LinkedList.\n",
    "Он принимает элемент данных в качестве аргумента, и помещает его в начало списка:\n",
    "</pre>"
   ]
  },
  {
   "cell_type": "code",
   "execution_count": null,
   "metadata": {
    "collapsed": false
   },
   "outputs": [],
   "source": [
    "class LinkedList :\n",
    "    def __init__(self) :\n",
    "        self.length = 0\n",
    "        self.head   = None\n",
    "        \n",
    "    def printBackward(self):\n",
    "        # Type your code here\n",
    "        pass\n",
    "\n",
    "    def addFirst(self, data):\n",
    "        # Type your code here\n",
    "        pass"
   ]
  },
  {
   "cell_type": "markdown",
   "metadata": {},
   "source": [
    "<pre>\n",
    "Как обычно, вы должны проверить код, чтобы убедиться, что он корректно обрабатывает особые случаи.\n",
    "Например, что произойдет, если список изначально пуст?\n",
    "</pre>"
   ]
  },
  {
   "cell_type": "markdown",
   "metadata": {},
   "source": [
    "# 10. Invariants\n",
    "\n",
    "<pre>\n",
    "Некоторые списки являются сформированными по правилам, другие - нет.\n",
    "Например, если список содержит цикл, то это приведет вызов наших методов к краху,\n",
    "так что мы могли бы потребовать, чтобы списки не содержали циклов.\n",
    "Другим требованием является то, что значение длины в объекте LinkedList должно быть равно фактическому количеству узлов в списке.\n",
    "\n",
    "Требования, подобные вышеуказанным, называются  инвариантами,\n",
    "так как в идеале, они должны удовлетворять любому объекту все время его жизни.\n",
    "\n",
    "Указание инвариантов для объектов является полезной практикой программирования, \n",
    "потому она делает легче доказательство правильности кода,\n",
    "проверку целостности структур данных, и обнаружения ошибок.\n",
    "\n",
    "Одним из моментов при использовании инвариантов является то, что существуют случаи, когда они нарушаются.\n",
    "Например, в середине метода AddFirst, после того как мы добавили узел, но прежде чем мы увеличили длину списка, инвариант нарушается.\n",
    "Такой вид нарушения является приемлемым;\n",
    "на самом деле, часто невозможно изменить объект без нарушения инварианта, по крайней мере на некоторое время.\n",
    "Как правило, мы требуем, чтобы каждый метод, который нарушает инвариант должен восстановить инвариант.\n",
    "Если сущетвует какой-либо критический участок кода, в котором инвариант нарушается, \n",
    "важно добавить в это место комментарии, чтобы указать явно, что на данном участке кода нельзя выполнять никаких действий, которые зависят от инвариант.\n",
    "</pre>\n",
    "\n",
    "# Exercises\n",
    "\n",
    "<pre>\n",
    "В качестве упражнения выполните следующие действия:\n",
    "\n",
    "    1. Расширьте имплементацию класса LinkedList таким образом, чтобы можно было распечатывать содержимое списка\n",
    "        print some_list\n",
    "    2. Добавьте метод search класса LinkedList для поиска и возврата элемента из списка. В качестве аргумента передается значение узла\n",
    "    3. Добавьте метод delete класса LinkedList для поиска и удаления елемента из списка. В качестве аргумента передается значение узла\n",
    "    4. вынесите реализацию классов LinkedList и Node в отдельный файл linkedlist.py в текущей директории;\n",
    "    5. создайте пустой файл __init__.py в текущей директории;\n",
    "    6. импортируйте созданный вами модуль linkedlist в данный файл;\n",
    "    7. напишите создание объектов сласса LinkedList и использование его методов     \n",
    "</pre>"
   ]
  },
  {
   "cell_type": "code",
   "execution_count": null,
   "metadata": {
    "collapsed": false
   },
   "outputs": [],
   "source": [
    "# Add your implementation\n",
    "class LinkedList :\n",
    "    def __init__(self) :\n",
    "        self.length = 0\n",
    "        self.head   = None\n",
    "        \n",
    "    def printBackward(self):\n",
    "        # Type your code here\n",
    "        pass\n",
    "    \n",
    "    def addFirst(self, data):\n",
    "        # Type your code here\n",
    "        pass\n",
    "    \n",
    "    def __str__(self):\n",
    "        # Type your code here\n",
    "        return \"\"\n",
    "    \n",
    "    def search(self, data):\n",
    "        # Type your code here\n",
    "        pass\n",
    "    \n",
    "    def delete(self, data):\n",
    "        # Type your code here\n",
    "        pass        \n",
    "        \n",
    "# Test print\n",
    "empty_list = LinkedList()\n",
    "\n",
    "one_list = LinkedList()\n",
    "one_list.addFirst(10)\n",
    "\n",
    "two_list = LinkedList()\n",
    "two_list.addFirst(20)\n",
    "two_list.addFirst(10)\n",
    "\n",
    "#print empty_list # []\n",
    "#print one_list # [10, ]\n",
    "#print two_list # [10, 20, ]\n",
    "\n",
    "# Test search\n",
    "empty_list = LinkedList()\n",
    "\n",
    "one_list = LinkedList()\n",
    "one_list.addFirst(10)\n",
    "\n",
    "two_list = LinkedList()\n",
    "two_list.addFirst(20)\n",
    "two_list.addFirst(10)\n",
    "\n",
    "#print empty_list.search(20) # Raise error\n",
    "#print two_list.search(30) # Raise error\n",
    "#print two_list.search(20) # 20\n",
    "\n",
    "# Test delete\n",
    "empty_list = LinkedList()\n",
    "\n",
    "one_list = LinkedList()\n",
    "one_list.addFirst(10)\n",
    "\n",
    "two_list = LinkedList()\n",
    "two_list.addFirst(20)\n",
    "two_list.addFirst(10)\n",
    "\n",
    "#print empty_list.delete(10) # Raise error\n",
    "\n",
    "#print one_list # [10, ]\n",
    "#print one_list.delete(10) # 10\n",
    "#print one_list # []\n",
    "\n",
    "print two_list # [10, 20, ]\n",
    "print two_list.delete(10) # 10\n",
    "print two_list # [20, ]"
   ]
  },
  {
   "cell_type": "code",
   "execution_count": null,
   "metadata": {
    "collapsed": true
   },
   "outputs": [],
   "source": []
  }
 ],
 "metadata": {
  "kernelspec": {
   "display_name": "Python 2",
   "language": "python",
   "name": "python2"
  },
  "language_info": {
   "codemirror_mode": {
    "name": "ipython",
    "version": 2
   },
   "file_extension": ".py",
   "mimetype": "text/x-python",
   "name": "python",
   "nbconvert_exporter": "python",
   "pygments_lexer": "ipython2",
   "version": "2.7.11"
  }
 },
 "nbformat": 4,
 "nbformat_minor": 0
}
