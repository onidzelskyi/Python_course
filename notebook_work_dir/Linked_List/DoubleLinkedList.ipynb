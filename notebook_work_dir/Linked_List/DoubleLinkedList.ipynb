{
 "cells": [
  {
   "cell_type": "markdown",
   "metadata": {},
   "source": [
    "Double Linked List\n",
    "==\n",
    "\n",
    "Methods:\n",
    "\n",
    "* \\__init__\n",
    "* \\__str__\n",
    "* insert\n",
    "* delete\n",
    "* find\n",
    "* fwd_print\n",
    "* rev_print\n"
   ]
  },
  {
   "cell_type": "code",
   "execution_count": null,
   "metadata": {
    "collapsed": true
   },
   "outputs": [],
   "source": [
    "class Node(object):\n",
    "    # Type your code here\n",
    "    pass\n",
    "    \n",
    "    \n",
    "class DoubleLinkedList(object):\n",
    "    # Type your code here\n",
    "    pass\n",
    "    \n",
    "    \n",
    "# Initializing list\n",
    "l = DoubleLinkedList()\n",
    "\n",
    "# Inserting Values\n",
    "l.insert(1)\n",
    "l.insert(2)\n",
    "l.insert(3)\n",
    "l.insert(4)\n",
    "\n",
    "# Forward Print\n",
    "l.fwd_print()\n",
    "\n",
    "# Reverse Print\n",
    "l.rev_print()\n",
    "\n",
    "# Try to find 3 in the list\n",
    "if (l.find(3)):\n",
    "    print(\"Found\")\n",
    "else :\n",
    "    print(\"Not found\")\n",
    "\n",
    "# Delete 3 from the list\n",
    "l.delete(3)\n",
    "\n",
    "# Forward Print\n",
    "l.fwd_print()\n",
    "\n",
    "# Reverse Print\n",
    "l.rev_print()\n",
    "\n",
    "# Now if we find 3, we will not get it in the list\n",
    "if (l.find(3)):\n",
    "    print(\"Found\")\n",
    "else :\n",
    "    print(\"Not found\")\n"
   ]
  }
 ],
 "metadata": {
  "kernelspec": {
   "display_name": "Python 3",
   "language": "python",
   "name": "python3"
  },
  "language_info": {
   "codemirror_mode": {
    "name": "ipython",
    "version": 3
   },
   "file_extension": ".py",
   "mimetype": "text/x-python",
   "name": "python",
   "nbconvert_exporter": "python",
   "pygments_lexer": "ipython3",
   "version": "3.4.3+"
  }
 },
 "nbformat": 4,
 "nbformat_minor": 0
}
