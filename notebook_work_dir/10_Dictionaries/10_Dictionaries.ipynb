{
 "cells": [
  {
   "cell_type": "markdown",
   "metadata": {},
   "source": [
    "#Dictionaries"
   ]
  },
  {
   "cell_type": "code",
   "execution_count": null,
   "metadata": {
    "collapsed": false
   },
   "outputs": [],
   "source": [
    "# Пример создания словаря перевода английских слов на испанский язык\n",
    "eng2sp = {} # создаем пустой словарь с именем eng2sp\n",
    "eng2sp['one'] = 'uno' # добавляем очередной элемент в словарь\n",
    "eng2sp['two'] = 'dos' # добавляем очередной элемент в словарь"
   ]
  },
  {
   "cell_type": "code",
   "execution_count": null,
   "metadata": {
    "collapsed": false
   },
   "outputs": [],
   "source": [
    "# Печать элементов словаря выполняется стандартным образом:\n",
    "print eng2sp"
   ]
  },
  {
   "cell_type": "code",
   "execution_count": null,
   "metadata": {
    "collapsed": false
   },
   "outputs": [],
   "source": [
    "# Другой способ создания словаря\n",
    "eng2sp = {'one': 'uno', 'two': 'dos', 'three': 'tres'}"
   ]
  },
  {
   "cell_type": "code",
   "execution_count": null,
   "metadata": {
    "collapsed": false
   },
   "outputs": [],
   "source": [
    "# Если мы напечатаем содержимое словаря мы увидим, что порядок следования элементов поменялся:\n",
    "print eng2sp"
   ]
  },
  {
   "cell_type": "code",
   "execution_count": null,
   "metadata": {
    "collapsed": false
   },
   "outputs": [],
   "source": [
    "# Элементы в словаре не расположены в порядке следования индекса, поэтому доступ к элементам словаря можно получить по значению ключа:\n",
    "print eng2sp['two']"
   ]
  },
  {
   "cell_type": "markdown",
   "metadata": {},
   "source": [
    "В качестве упражнения создайте словарь дней недели, в котором в качестве ключей используются строковые представления чисел от 1 до 7, например, \"1\", \"2\", и т.д., а в качестве значений - имена дней недели (Monday, Tuesday, Wednesday, Thursday, Friday, Saturday, Sunday). Затем, напечатайте значение дня недели, соответствующего ключу \"4\""
   ]
  },
  {
   "cell_type": "code",
   "execution_count": null,
   "metadata": {
    "collapsed": false
   },
   "outputs": [],
   "source": [
    "# Type your code here\n",
    "day_of_weeks = {}\n"
   ]
  },
  {
   "cell_type": "markdown",
   "metadata": {},
   "source": [
    "#1. Dictionary operations"
   ]
  },
  {
   "cell_type": "code",
   "execution_count": null,
   "metadata": {
    "collapsed": false
   },
   "outputs": [],
   "source": [
    "# Оператор del удаляет элемент из словаря:\n",
    "inventory = {'apples': 430, 'bananas': 312, 'oranges': 525, 'pears': 217}\n",
    "print inventory\n",
    "\n",
    "# купили все груши, можем удалить их из списка ассортимента товаров\n",
    "del inventory['pears']\n",
    "print inventory"
   ]
  },
  {
   "cell_type": "code",
   "execution_count": null,
   "metadata": {
    "collapsed": false
   },
   "outputs": [],
   "source": [
    "# или просто изменить значение элемента по ключу\n",
    "inventory['pears'] = 0\n",
    "print inventory"
   ]
  },
  {
   "cell_type": "code",
   "execution_count": null,
   "metadata": {
    "collapsed": false
   },
   "outputs": [],
   "source": [
    "# Оператор len возвращает длину словаря\n",
    "len(inventory)"
   ]
  },
  {
   "cell_type": "markdown",
   "metadata": {},
   "source": [
    "#2. Dictionary methods"
   ]
  },
  {
   "cell_type": "code",
   "execution_count": null,
   "metadata": {
    "collapsed": false
   },
   "outputs": [],
   "source": [
    "# Доступ к ключам словаря\n",
    "eng2sp.keys()"
   ]
  },
  {
   "cell_type": "code",
   "execution_count": null,
   "metadata": {
    "collapsed": false
   },
   "outputs": [],
   "source": [
    "# Метод values для данного словаря возвращает значения, присутствующие в словаре:\n",
    "eng2sp.values()"
   ]
  },
  {
   "cell_type": "code",
   "execution_count": null,
   "metadata": {
    "collapsed": false
   },
   "outputs": [],
   "source": [
    "# Метод items для данного словаря возвращает пары ключ-значение в форме списка кортежей:\n",
    "eng2sp.items()\n"
   ]
  },
  {
   "cell_type": "code",
   "execution_count": null,
   "metadata": {
    "collapsed": false
   },
   "outputs": [],
   "source": [
    "# Если попытаться вызвать метод без объекта мы получим ошибку:\n",
    "items()"
   ]
  },
  {
   "cell_type": "markdown",
   "metadata": {},
   "source": [
    "#3. Aliasing and copying"
   ]
  },
  {
   "cell_type": "code",
   "execution_count": null,
   "metadata": {
    "collapsed": false
   },
   "outputs": [],
   "source": [
    "# Если вы хотите модифицировать словарь и сохранить копию предыдущего, используйте метод copy:\n",
    "opposites = {'up': 'down', 'right': 'wrong', 'true': 'false'}\n",
    "alias = opposites\n",
    "copy = opposites.copy()\n",
    "print opposites"
   ]
  },
  {
   "cell_type": "code",
   "execution_count": null,
   "metadata": {
    "collapsed": false
   },
   "outputs": [],
   "source": [
    "# alias и opposites ссылаются на один и тот же объект; \n",
    "# copy ссылается на вновь созданную копию этого словаря. \n",
    "# Если мы модифицируем  alias, opposites также изменится:\n",
    "alias['right'] = 'left'\n",
    "opposites['right']"
   ]
  },
  {
   "cell_type": "code",
   "execution_count": null,
   "metadata": {
    "collapsed": false
   },
   "outputs": [],
   "source": [
    "# Если мы модифицируем copy, opposites останется неизмененным:\n",
    "copy['right'] = 'privilege'\n",
    "opposites['right']"
   ]
  },
  {
   "cell_type": "markdown",
   "metadata": {},
   "source": [
    "#4. Sparse matrices"
   ]
  },
  {
   "cell_type": "markdown",
   "metadata": {},
   "source": [
    "<pre>\n",
    "Ранее мы рассматривали список списков для представления матриц. \n",
    "Это хороший подход для матриц с непустыми элементами, но если матрица выглядит так:\n",
    "<img src=\"sparse_matrix.png\"/>\n",
    "</pre>"
   ]
  },
  {
   "cell_type": "code",
   "execution_count": null,
   "metadata": {
    "collapsed": false
   },
   "outputs": [],
   "source": [
    "# Представление матрицы содержит много нулей:\n",
    "matrix = [ [0,0,0,1,0],\n",
    "           [0,0,0,0,0],\n",
    "           [0,2,0,0,0],\n",
    "           [0,0,0,0,0],\n",
    "           [0,0,0,3,0] ]"
   ]
  },
  {
   "cell_type": "code",
   "execution_count": null,
   "metadata": {
    "collapsed": false
   },
   "outputs": [],
   "source": [
    "# Альтернативой может послужить словарь. \n",
    "# В качестве ключей можно использовать кортежи, содержащие номера строки и столбца. \n",
    "# Пример словаря, представляющего ту же матрицу:\n",
    "matrix = {(0,3): 1, (2, 1): 2, (4, 3): 3}"
   ]
  },
  {
   "cell_type": "code",
   "execution_count": null,
   "metadata": {
    "collapsed": false
   },
   "outputs": [],
   "source": [
    "# Для доступа к элементу матрицы можно использовать оператор []\n",
    "matrix[0,3]"
   ]
  },
  {
   "cell_type": "code",
   "execution_count": null,
   "metadata": {
    "collapsed": false
   },
   "outputs": [],
   "source": [
    "# Существует проблема при попытке обратиться к несуществующему элементу:\n",
    "matrix[1,3]"
   ]
  },
  {
   "cell_type": "code",
   "execution_count": null,
   "metadata": {
    "collapsed": false
   },
   "outputs": [],
   "source": [
    "# Для безопасного доступа к элементам словаря используйте метод get:\n",
    "matrix.get((1,3), -1)"
   ]
  },
  {
   "cell_type": "markdown",
   "metadata": {},
   "source": [
    "#5. Hints"
   ]
  },
  {
   "cell_type": "code",
   "execution_count": null,
   "metadata": {
    "collapsed": false
   },
   "outputs": [],
   "source": [
    "def fibonacci (n):\n",
    "  if n == 0 or n == 1:\n",
    "    return 1\n",
    "  else:\n",
    "    return fibonacci(n-1) + fibonacci(n-2)\n",
    "\n",
    "fibonacci(5)"
   ]
  },
  {
   "cell_type": "markdown",
   "metadata": {},
   "source": [
    "<pre>\n",
    "call graph for fibonacci with n=4:\n",
    "<img src=\"call_graph.png\"/>\n",
    "</pre>"
   ]
  },
  {
   "cell_type": "code",
   "execution_count": null,
   "metadata": {
    "collapsed": false
   },
   "outputs": [],
   "source": [
    "# Пример имплементации fibonacci, используя попадания:\n",
    "previous = {0:1, 1:1}\n",
    "def fibonacci(n):\n",
    "  if n in previous:\n",
    "    return previous[n]\n",
    "  else:\n",
    "    newValue = fibonacci(n-1) + fibonacci(n-2)\n",
    "    previous[n] = newValue\n",
    "    return newValue\n",
    "\n",
    "fibonacci(100)"
   ]
  },
  {
   "cell_type": "markdown",
   "metadata": {},
   "source": [
    "#6. Long integers"
   ]
  },
  {
   "cell_type": "code",
   "execution_count": null,
   "metadata": {
    "collapsed": false
   },
   "outputs": [],
   "source": [
    "# Python предоставляет тип long для обработки целых значений любого размера. \n",
    "# Существует два способа создания long типа. \n",
    "# Первый - добавить L в конце числа\n",
    "type(1L)"
   ]
  },
  {
   "cell_type": "code",
   "execution_count": null,
   "metadata": {
    "collapsed": false
   },
   "outputs": [],
   "source": [
    "# Другой - использовать функцию long для конвертации числа в long. \n",
    "# long может принимать любой числовой тип а также строки в виде чисел:\n",
    "print long(1)\n",
    "print long(3.9)\n",
    "print long('57')"
   ]
  },
  {
   "cell_type": "code",
   "execution_count": null,
   "metadata": {
    "collapsed": false
   },
   "outputs": [],
   "source": [
    "# Каждый раз, когда результат вычислений оказывается слишком ббольшим, чтобы поместить его в int, \n",
    "# Python автоматически расширяет его тип до long\n",
    "print 1000 * 1000\n",
    "print  100000 * 100000"
   ]
  },
  {
   "cell_type": "markdown",
   "metadata": {},
   "source": [
    "#7. Counting letters"
   ]
  },
  {
   "cell_type": "code",
   "execution_count": null,
   "metadata": {
    "collapsed": false
   },
   "outputs": [],
   "source": [
    "def countLetters(word, letter):\n",
    "    count = 0\n",
    "    for char in word:\n",
    "      if char == letter:\n",
    "        count = count + 1\n",
    "    return count\n",
    "\n",
    "fruit = \"banana\"\n",
    "print countLetters(fruit, 'a')"
   ]
  },
  {
   "cell_type": "code",
   "execution_count": null,
   "metadata": {
    "collapsed": false
   },
   "outputs": [],
   "source": [
    "# Словари предоставляют удобный способ решить эту проблему:\n",
    "letterCounts = {}\n",
    "for letter in \"Mississippi\":\n",
    "    letterCounts[letter] = letterCounts.gets(letter, 0) + 1\n",
    "\n",
    "letterCounts"
   ]
  },
  {
   "cell_type": "code",
   "execution_count": null,
   "metadata": {
    "collapsed": false
   },
   "outputs": [],
   "source": [
    "# Было бы удобно отобразить гистограмму в алфавитном порядке. \n",
    "# Мы можем сделать это, сипользуя items и sort метод:\n",
    "letterItems = letterCounts.items()\n",
    "letterItems.sort()\n",
    "print letterItems"
   ]
  },
  {
   "cell_type": "code",
   "execution_count": null,
   "metadata": {
    "collapsed": false
   },
   "outputs": [],
   "source": []
  }
 ],
 "metadata": {
  "kernelspec": {
   "display_name": "Python 2",
   "language": "python",
   "name": "python2"
  },
  "language_info": {
   "codemirror_mode": {
    "name": "ipython",
    "version": 2
   },
   "file_extension": ".py",
   "mimetype": "text/x-python",
   "name": "python",
   "nbconvert_exporter": "python",
   "pygments_lexer": "ipython2",
   "version": "2.7.10"
  }
 },
 "nbformat": 4,
 "nbformat_minor": 0
}
