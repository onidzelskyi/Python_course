{
 "metadata": {
  "name": "",
  "signature": "sha256:868c518802f51f6f48e271ff14f4947e9f1c26c1b28a4f929456a3fd79c2b494"
 },
 "nbformat": 3,
 "nbformat_minor": 0,
 "worksheets": [
  {
   "cells": [
    {
     "cell_type": "markdown",
     "metadata": {},
     "source": [
      "#1. What is wrong with this Python loop:\n",
      "<pre>\n",
      "     n=5\n",
      "     while n > 0 :\n",
      "            print n\n",
      "     print 'All done'\n",
      "    \n",
      "This loop will run forever\n",
      "The print 'All done' statement should be indented four spaces\n",
      "There should be no colon on the while statement\n",
      "while is not a Python reserved word\n",
      "</pre>"
     ]
    },
    {
     "cell_type": "markdown",
     "metadata": {},
     "source": [
      "#2. What does the break statement do?\n",
      "<pre>\n",
      "Resets the iteration variable to its initial value\n",
      "Exits the currently executing loop \n",
      "Exits the program\n",
      "Jumps to the \"top\" of the loop and starts the next iteration\n",
      "</pre>"
     ]
    },
    {
     "cell_type": "markdown",
     "metadata": {},
     "source": [
      "#3. What does the continue statement do?\n",
      "<pre>\n",
      "Resets the iteration variable to its initial value\n",
      "Jumps to the \"top\" of the loop and starts the next iteration\n",
      "Exits the program\n",
      "Exits the currently executing loop\n",
      "</pre>"
     ]
    },
    {
     "cell_type": "markdown",
     "metadata": {},
     "source": [
      "#4. What does the following Python program print out?\n",
      "<pre>\n",
      "tot = 0\n",
      "for i in [5, 4, 3, 2, 1] :\n",
      "    tot = tot + 1\n",
      "print tot\n",
      "\n",
      "0 \n",
      "10 \n",
      "5 \n",
      "15\n",
      "</pre>"
     ]
    },
    {
     "cell_type": "markdown",
     "metadata": {},
     "source": [
      "#5. What is the iteration variable in the following Python code:\n",
      "<pre>\n",
      "friends = ['Joseph', 'Glenn', 'Sally']\n",
      "for friend in friends :\n",
      "     print 'Happy New Year:',  friend\n",
      "print 'Done!'\n",
      "\n",
      "friend \n",
      "Glenn \n",
      "Sally \n",
      "friends\n",
      "</pre>"
     ]
    },
    {
     "cell_type": "markdown",
     "metadata": {},
     "source": [
      "#6. What is a good description of the following bit of Python code?\n",
      "<pre>\n",
      "zork = 0\n",
      "for thing in [9, 41, 12, 3, 74, 15] :\n",
      "    zork = zork + thing\n",
      "print 'After', zork\n",
      "\n",
      "Find the smallest item in a list \n",
      "Sum all the elements of a list \n",
      "Count all of the elements in a list \n",
      "Find the largest item in a list\n",
      "</pre>"
     ]
    },
    {
     "cell_type": "markdown",
     "metadata": {},
     "source": [
      "#7. What will the following code print out?\n",
      "<pre>\n",
      "smallest_so_far = -1\n",
      "for the_num in [9, 41, 12, 3, 74, 15] :\n",
      "   if the_num < smallest_so_far :\n",
      "      smallest_so_far = the_num\n",
      "print smallest_so_far\n",
      "\n",
      "\n",
      "Hint: This is a trick question and most would say this code has a bug - so read carefully\n",
      "\n",
      "-1 \n",
      "74 \n",
      "42 \n",
      "3\n",
      "</pre>"
     ]
    },
    {
     "cell_type": "markdown",
     "metadata": {},
     "source": [
      "#8. What is a good statement to describe the is operator as used in the following if statement:\n",
      "<pre>\n",
      "if smallest is None :\n",
      "     smallest = value\n",
      "\n",
      "The if statement is a syntax error \n",
      "matches both type and value\n",
      "Looks up 'None' in the smallest variable if it is a string\n",
      "Is true if the smallest variable has a value of -1\n",
      "</pre>"
     ]
    },
    {
     "cell_type": "markdown",
     "metadata": {},
     "source": [
      "#9. Which reserved word indicates the start of an \"indefinite\" loop in Python?\n",
      "<pre>\n",
      "while \n",
      "indef \n",
      "break \n",
      "def \n",
      "for\n",
      "</pre>"
     ]
    },
    {
     "cell_type": "markdown",
     "metadata": {},
     "source": [
      "#10. How many times will the body of the following loop be executed?\n",
      "<pre>\n",
      "n=0\n",
      "while n > 0 :\n",
      "    print 'Lather'\n",
      "    print 'Rinse'\n",
      "print 'Dry off!'\n",
      "\n",
      "1\n",
      "5\n",
      "0\n",
      "This is an infinite loop\n",
      "</pre>"
     ]
    },
    {
     "cell_type": "code",
     "collapsed": false,
     "input": [],
     "language": "python",
     "metadata": {},
     "outputs": []
    }
   ],
   "metadata": {}
  }
 ]
}