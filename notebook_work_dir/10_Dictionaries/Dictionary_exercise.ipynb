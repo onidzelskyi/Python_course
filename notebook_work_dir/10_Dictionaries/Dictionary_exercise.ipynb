{
 "cells": [
  {
   "cell_type": "markdown",
   "metadata": {},
   "source": [
    "\n",
    "# 1\n",
    "\n",
    "Given the following dictionary:\n",
    "\n",
    "    inventory = {\n",
    "        'gold' : 500,\n",
    "        'pouch' : ['flint', 'twine', 'gemstone'],\n",
    "        'backpack' : ['xylophone','dagger', 'bedroll','bread loaf']\n",
    "    }\n",
    "\n",
    "Try to do the followings:\n",
    "\n",
    "* Add a key to inventory called 'pocket'.\n",
    "* Set the value of 'pocket' to be a list consisting of the strings 'seashell', 'strange berry', and 'lint'.\n",
    "* .sort()the items in the list stored under the 'backpack' key.\n",
    "* Then .remove('dagger') from the list of items stored under the 'backpack' key.\n",
    "* Add 50 to the number stored under the 'gold' key."
   ]
  },
  {
   "cell_type": "code",
   "execution_count": null,
   "metadata": {
    "collapsed": true
   },
   "outputs": [],
   "source": [
    "# Type your code here\n"
   ]
  },
  {
   "cell_type": "markdown",
   "metadata": {},
   "source": [
    "# 2\n",
    "\n",
    "Follow the steps:\n",
    "\n",
    "* First, make a list called groceries with the values \"banana\",\"orange\", and \"apple\".\n",
    "* Define this two dictionaries:\n",
    "\n",
    "    stock = {\n",
    "        \"banana\": 6,\n",
    "        \"apple\": 0,\n",
    "        \"orange\": 32,\n",
    "        \"pear\": 15\n",
    "    }\n",
    "\n",
    "    prices = {\n",
    "        \"banana\": 4,\n",
    "        \"apple\": 2,\n",
    "        \"orange\": 1.5,\n",
    "        \"pear\": 3\n",
    "    }\n",
    "\n",
    "* Define a function compute_bill that takes one argument food as input. In the function, create a variable total with an initial value of zero.For each item in the food list, add the price of that item to total. Finally, return the total. Ignore whether or not the item you're billing for is in stock.Note that your function should work for any food list.\n",
    "* Make the following changes to your compute_bill function:\n",
    "\n",
    "  * While you loop through each item of food, only add the price of the item to total if the item's stock count is greater than zero.\n",
    "  * If the item is in stock and after you add the price to the total, subtract one from the item's stock count."
   ]
  },
  {
   "cell_type": "code",
   "execution_count": null,
   "metadata": {
    "collapsed": true
   },
   "outputs": [],
   "source": [
    "# Type your code here\n"
   ]
  },
  {
   "cell_type": "markdown",
   "metadata": {},
   "source": [
    "# 3\n",
    "\n",
    "Folow the steps bellow: -Create a new dictionary called prices using {} format like the example above.\n",
    "\n",
    "* Put these values in your prices dictionary:\n",
    "\n",
    "    \"banana\": 4,\n",
    "    \"apple\": 2,\n",
    "    \"orange\": 1.5,\n",
    "    \"pear\": 3\n",
    "\n",
    "* Loop through each key in prices. For each key, print out the key along with its price and stock information. Print the answer in the following format:\n",
    "\n",
    "    apple\n",
    "    price: 2\n",
    "    stock: 0\n",
    "\n",
    "* Let's determine how much money you would make if you sold all of your food.\n",
    "\n",
    "* Create a variable called total and set it to zero.\n",
    " * Loop through the prices dictionaries.For each key in prices, multiply the number in prices by the number in stock. \n",
    " * Print that value into the console and then add it to total.\n",
    " * Finally, outside your loop, print total."
   ]
  },
  {
   "cell_type": "code",
   "execution_count": null,
   "metadata": {
    "collapsed": true
   },
   "outputs": [],
   "source": [
    "# Type your code here\n"
   ]
  },
  {
   "cell_type": "markdown",
   "metadata": {},
   "source": [
    "# 4\n",
    "\n",
    "Try to follow the steps:\n",
    "\n",
    "* Create three dictionaries: lloyd, alice, and tyler.\n",
    "* Give each dictionary the keys \"name\", \"homework\", \"quizzes\", and \"tests\".Have the \"name\" key be the name of the student (that is, lloyd's name should be \"Lloyd\") and the other keys should be an empty list. Look in solutions, the \"solution 1\". Chechk if you have done it rigth.\n",
    "\n",
    "* Now copy this code:\n",
    "\n",
    "    lloyd = {\n",
    "      \"name\": \"Lloyd\",\n",
    "      \"homework\": [90.0,97.0,75.0,92.0],\n",
    "      \"quizzes\": [88.0,40.0,94.0],\n",
    "      \"tests\": [75.0,90.0]\n",
    "    }\n",
    "    alice = {\n",
    "      \"name\": \"Alice\",\n",
    "      \"homework\": [100.0, 92.0, 98.0, 100.0],\n",
    "      \"quizzes\": [82.0, 83.0, 91.0],\n",
    "      \"tests\": [89.0, 97.0]\n",
    "    }\n",
    "    tyler = {\n",
    "      \"name\": \"Tyler\",\n",
    "      \"homework\": [0.0, 87.0, 75.0, 22.0],\n",
    "      \"quizzes\": [0.0, 75.0, 78.0],\n",
    "      \"tests\": [100.0, 100.0]\n",
    "    }\n",
    "\n",
    "* Below your code, create a list called studentsthat contains lloyd, alice, and `tyler.\n",
    "* for each student in your students list, print out that student's data, as follows:\n",
    "\n",
    "  * print the student's name\n",
    "  * print the student's homework\n",
    "  * print the student's quizzes\n",
    "  * print the student's tests\n",
    "  \n",
    "* Write a function average that takes a list of numbers and returns the average.\n",
    "  * Define a function called average that has one argument, numbers.\n",
    "  * Inside that function, call the built-in sum() function with the numbers list as a parameter. Store the result in a variable called total.\n",
    "  * Use float() to convert total and store the result in total.\n",
    "  * Divide total by the length of the numbers list. Use the built-in len() function to calculate that.\n",
    "  * Return that result.\n",
    "\n",
    "* Write a function called get_average that takes a student dictionary (like lloyd, alice, or tyler) as input and returns his/her weighted average.\n",
    "\n",
    "  * Define a function called get_average that takes one argument called student.\n",
    "  * Make a variable homework that stores the average() of student[\"homework\"].\n",
    "  * Repeat step 2 for \"quizzes\" and \"tests\".\n",
    "  * Multiply the 3 averages by their weights and return the sum of those three. Homework is 10%, quizzes are 30% and tests are 60%.\n",
    "\n",
    "* Define a new function called get_letter_grade that has one argument called score. Expect score to be a number.\n",
    "\n",
    "  * Inside your function, test score using a chain of if: / elif: / else: statements, like so:\n",
    "\n",
    "    If score is 90 or above: return \"A\"\n",
    "    Else if score is 80 or above: return \"B\"\n",
    "    Else if score is 70 or above: return \"C\"\n",
    "    Else if score is 60 or above: return \"D\"\n",
    "    Otherwise: return \"F\"\n",
    "\n",
    "  * Finally, test your function. Call your get_letter_grade function with the result of get_average(lloyd). Print the resulting letter grade.\n",
    "\n",
    "* Define a function called get_class_average that has one argument, students. You can expect students to be a list containing your three students.\n",
    "\n",
    "  * First, make an empty list called results.\n",
    "  * For each student item in the class list, calculate get_average(student) and then call results.append() with that result.\n",
    "  * Finally, return the result of calling average() with results.\n",
    "\n",
    "* Finally, print out the result of calling get_class_averagewith your students list. Your students should be [lloyd, alice, tyler].\n",
    "\n",
    "* Then, print the result of get_letter_grade for the class's average."
   ]
  },
  {
   "cell_type": "code",
   "execution_count": null,
   "metadata": {
    "collapsed": true
   },
   "outputs": [],
   "source": [
    "# Type your code here\n"
   ]
  },
  {
   "cell_type": "markdown",
   "metadata": {},
   "source": [
    "# 5\n",
    "Date Decoder. A date of the form 8-MAR-85 includes the name of the month, which must be translated to a number. Create a dict suitable for decoding month names to numbers. Create a function which uses string operations to split the date into 3 items using the \"-\" character. Translate the month, correct the year to include all of the digits.\n",
    "\n",
    "The function will accept a date in the \"dd-MMM-yy\" format and respond with a tuple of ( y , m , d )."
   ]
  },
  {
   "cell_type": "code",
   "execution_count": null,
   "metadata": {
    "collapsed": true
   },
   "outputs": [],
   "source": [
    "# Type your code here\n"
   ]
  },
  {
   "cell_type": "markdown",
   "metadata": {},
   "source": [
    "# 6\n",
    "\n",
    "With a given integral number n, write a program to generate a dictionary that contains (i, i*i) such that is an integral number between 1 and n (both included). and then the program should print the dictionary.\n",
    "Suppose the following input is supplied to the program:\n",
    "\n",
    "    8\n",
    "\n",
    "Then, the output should be:\n",
    "\n",
    "    {1: 1, 2: 4, 3: 9, 4: 16, 5: 25, 6: 36, 7: 49, 8: 64}\n",
    "\n",
    "Hints:\n",
    "In case of input data being supplied to the question, it should be assumed to be a console input.\n",
    "Consider use dict()"
   ]
  },
  {
   "cell_type": "code",
   "execution_count": null,
   "metadata": {
    "collapsed": true
   },
   "outputs": [],
   "source": [
    "# Type your code here\n"
   ]
  }
 ],
 "metadata": {
  "kernelspec": {
   "display_name": "Python 2",
   "language": "python",
   "name": "python2"
  },
  "language_info": {
   "codemirror_mode": {
    "name": "ipython",
    "version": 2
   },
   "file_extension": ".py",
   "mimetype": "text/x-python",
   "name": "python",
   "nbconvert_exporter": "python",
   "pygments_lexer": "ipython2",
   "version": "2.7.10"
  }
 },
 "nbformat": 4,
 "nbformat_minor": 0
}
