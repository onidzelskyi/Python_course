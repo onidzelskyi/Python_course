{
 "cells": [
  {
   "cell_type": "markdown",
   "metadata": {},
   "source": [
    "#Grade point average (GPA) \n",
    "<pre>\n",
    "Напишите функцию report_card, которая принимает от пользователя список пройденных курсов с оценками и в конце печатает сводную инфармацию о курсах и средний балл.\n",
    "Не забудьте спросить у пользователя, сколько курсов он закончил (подумайте, зачем нам это может понадобиться? \n",
    "Можно ли написать программу, не использующую данную информацию?).\n",
    "\n",
    "Пример работы программы:\n",
    "\n",
    ">>> report_card()\n",
    "How many classes did you take? 4\n",
    "What was the name of this class? 18.02\n",
    "What was your grade? 94\n",
    "...\n",
    "REPORT CARD:\n",
    "18.02 - 94\n",
    "21H.601  96\n",
    "8.01  91\n",
    "5.111 - 88\n",
    "Overall GPA  92.25\n",
    "\n",
    "Подсказка: Возможно, вам захочется использовать цикл и хранить имена курсов и оченки отдельно. Есть несколько способов реализовать это.\n",
    "Если вы решили использовать список помните, что добавление элемента в конец списка:\n",
    "\n",
    "list.append(elt).\n",
    "\n",
    "</pre>"
   ]
  },
  {
   "cell_type": "code",
   "execution_count": null,
   "metadata": {
    "collapsed": false
   },
   "outputs": [],
   "source": [
    "def report_card():\n",
    "    # Type your code here\n",
    "    pass\n"
   ]
  }
 ],
 "metadata": {
  "kernelspec": {
   "display_name": "Python 2",
   "language": "python",
   "name": "python2"
  },
  "language_info": {
   "codemirror_mode": {
    "name": "ipython",
    "version": 2
   },
   "file_extension": ".py",
   "mimetype": "text/x-python",
   "name": "python",
   "nbconvert_exporter": "python",
   "pygments_lexer": "ipython2",
   "version": "2.7.10"
  }
 },
 "nbformat": 4,
 "nbformat_minor": 0
}
