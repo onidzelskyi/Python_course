{
 "cells": [
  {
   "cell_type": "markdown",
   "metadata": {},
   "source": [
    "# Intro to Object Oriented Programming\n",
    "\n",
    "## 1. Questions\n",
    "\n",
    "<pre>\n",
    "1. В чем разница между локальной переменной и атрибутом объекта?\n",
    "\n",
    "2. Какой метод вызывается, когда объект создается?\n",
    "\n",
    "3. Если у вас есть экземпляр объекта, obj, и вы хотите вызвать его метод do something() \n",
    "(предположим, такой метод существует).\n",
    "Как это сделать? (напишите строку кода, которую вы будете использовать)\n",
    "</pre>"
   ]
  },
  {
   "cell_type": "code",
   "execution_count": null,
   "metadata": {
    "collapsed": true
   },
   "outputs": [],
   "source": [
    "# Paste your code here\n"
   ]
  },
  {
   "cell_type": "markdown",
   "metadata": {},
   "source": [
    "## 2. Understanding Objects\n",
    "\n",
    "<pre>\n",
    "1. Написать класс Address, который имеет два атрибута: \n",
    "    number\n",
    "    street name\n",
    "    \n",
    "Убедитесь, что у вас есть метод __init__, который инициализирует объект соответствующим образом.\n",
    "</pre>"
   ]
  },
  {
   "cell_type": "code",
   "execution_count": null,
   "metadata": {
    "collapsed": true
   },
   "outputs": [],
   "source": [
    "# Paste your code here\n"
   ]
  },
  {
   "cell_type": "markdown",
   "metadata": {},
   "source": [
    "<pre>\n",
    "2. Рассмотрим следующий код\n",
    "</pre>"
   ]
  },
  {
   "cell_type": "code",
   "execution_count": null,
   "metadata": {
    "collapsed": false
   },
   "outputs": [],
   "source": [
    "class Clock:\n",
    "    def __init__(self, time):\n",
    "        self.time = time\n",
    "      \n",
    "    def print_time(self):\n",
    "        time = \"6:30\"\n",
    "        print(self.time)\n",
    "\n",
    "#clock = Clock(\"5:30\")\n",
    "#clock.print_time()"
   ]
  },
  {
   "cell_type": "markdown",
   "metadata": {},
   "source": [
    "<pre>\n",
    "а) Что будет напечатано в результате?\n",
    "б) Это то, что вы ожидали? Почему?\n",
    "\n",
    "3. Рассмотрим следующий код\n",
    "</pre>"
   ]
  },
  {
   "cell_type": "code",
   "execution_count": null,
   "metadata": {
    "collapsed": false
   },
   "outputs": [],
   "source": [
    "class Clock:\n",
    "    def __init__(self, time):\n",
    "        self.time = time\n",
    "\n",
    "    def print_time(self, time):\n",
    "        print(time)\n",
    "\n",
    "#clock = Clock(\"5:30\")\n",
    "#clock.print_time(\"10:30\")"
   ]
  },
  {
   "cell_type": "markdown",
   "metadata": {},
   "source": [
    "<pre>\n",
    "(а) Что будет напечатано в результате?\n",
    "(б) Что это говорит вам о задании параметров с таким же именем, что и атрибут объекта?\n",
    "\n",
    "4. Рассмотрим следующий код\n",
    "</pre>"
   ]
  },
  {
   "cell_type": "code",
   "execution_count": null,
   "metadata": {
    "collapsed": false
   },
   "outputs": [],
   "source": [
    "class Clock:\n",
    "    def __init__(self, time):\n",
    "        self.time = time\n",
    "\n",
    "    def print_time(self):\n",
    "        print(self.time)\n",
    "\n",
    "boston_clock = Clock(\"5:30\")\n",
    "paris_clock = boston_clock\n",
    "paris_clock.time = \"10:30\"\n",
    "#boston_clock.print_time()"
   ]
  },
  {
   "cell_type": "markdown",
   "metadata": {},
   "source": [
    "<pre>\n",
    "(а) Что будет напечатано в результате?\n",
    "(б) Почему было распечатано именно такое значение? \n",
    "    (то есть boston_clock и paris_clock - это различные объекты? Почему да или почему нет?)\n",
    "</pre>"
   ]
  },
  {
   "cell_type": "markdown",
   "metadata": {},
   "source": [
    "## 3. Class Queue\n",
    "\n",
    "<pre>\n",
    "В ходе этого упражнения, вы создадите свой класс, \n",
    "    class Queue. \n",
    "Очереди являются фундаментальной структурой данных в компьютерных науках. \n",
    "Вы можете добавлять элементы в очередь, и очередь поддерживает определенный порядок. \n",
    "Если вы хотите получить данные из конца очереди, вы получите элемент, который был там дольше всех \n",
    "(этот порядок добавления и извлечения элементов из контейнера известен как «первый-вошел-первый-вышел\", или FIFO). \n",
    "Вы можете прочитать об очередях в Википедии, если вы хотите узнать больше.\n",
    "\n",
    "1. Создайте ваш класс Queue. \n",
    "   В вашем классе Queue вам нужно три метода:\n",
    "   \n",
    "   __init__: для инициализации очереди \n",
    "           (подумайте, как вы будете хранить элементы, помещённые в очередь? \n",
    "           Вам необходимо будет инициализировать соответствующий атрибут объекта в этом методе)\n",
    "\n",
    "    insert: вставляет один элемент в очередь\n",
    "\n",
    "    remove: удаляет один элемент из очереди и возвращает его. \n",
    "            Если очередь пуста, возвращает сообщение о том, что очередь пуста.\n",
    "            \n",
    "Когда вы закончите, вы должны проверить вашу реализацию. Ваши результаты должны выглядеть следующим образом:\n",
    "</pre>"
   ]
  },
  {
   "cell_type": "code",
   "execution_count": null,
   "metadata": {
    "collapsed": false
   },
   "outputs": [],
   "source": [
    "queue = Queue()\n",
    "queue.insert(5)\n",
    "queue.insert(6)\n",
    "queue.remove()\n",
    "# return 5\n",
    "\n",
    "queue.insert(7)\n",
    "queue.remove()\n",
    "# return 6\n",
    "\n",
    "queue.remove()\n",
    "# return 7\n",
    "\n",
    "queue.remove()\n",
    "# print out: The queue is empty"
   ]
  },
  {
   "cell_type": "markdown",
   "metadata": {},
   "source": [
    "<pre>\n",
    "Убедитесь, что обработали последний случай правильно - когда вы пытаетесь удалить элемент из пустой очереди,\n",
    "необходимо печатать сообщение, а не бросать исключение с сообщением об ошибке.\n",
    "</pre>"
   ]
  },
  {
   "cell_type": "code",
   "execution_count": null,
   "metadata": {
    "collapsed": true
   },
   "outputs": [],
   "source": [
    "# Paste your code here\n"
   ]
  },
  {
   "cell_type": "markdown",
   "metadata": {},
   "source": [
    "# 4. Stacks\n",
    "\n",
    "<pre>\n",
    "Стеки являются обратной версией очередей - вместо того, чтобы \"первый вошел первый вышел\", \n",
    "они используют \"последний вошел первый вышел\" (LIFO) стратегию. \n",
    "Вы можете рассматривать стек как стопка подносов в ресторане; \n",
    "поднос, который положили первым в стопку, будет извлечен и использован последним. \n",
    "Опять же, обратитесь Википедию для более глубокого объяснения стеков.\n",
    "\n",
    "Создайте новый класс Stack. \n",
    "Он должен быть очень похож на вашу реализацию очереди; \n",
    "Вам будет нужно три метода:\n",
    "\n",
    "   __init__: для инициализации очереди \n",
    "           (подумайте, как вы будете хранить элементы, помещённые в очередь? \n",
    "           Вам необходимо будет инициализировать соответствующий атрибут объекта в этом методе)\n",
    "\n",
    "    push: вставляет один элемент в очередь\n",
    "\n",
    "    pop: удаляет один элемент из очереди и возвращает его. \n",
    "            Если очередь пуста, возвращает сообщение о том, что очередь пуста.\n",
    "\n",
    "    \n",
    "Когда вы закончите, вы должны проверить вашу реализацию. Ваши результаты должны выглядеть следующим образом:\n",
    "</pre>"
   ]
  },
  {
   "cell_type": "code",
   "execution_count": null,
   "metadata": {
    "collapsed": true
   },
   "outputs": [],
   "source": [
    "stack = Stack()\n",
    "stack.push(5)\n",
    "stack.push(6)\n",
    "stack.pop()\n",
    "# returned 6\n",
    "\n",
    "stack.push(7)\n",
    "stack.pop()\n",
    "# returned 7\n",
    "\n",
    "stack.pop()\n",
    "# returned 5\n",
    "\n",
    "stack.pop()\n",
    "# print out \"The stack is empty\""
   ]
  },
  {
   "cell_type": "code",
   "execution_count": null,
   "metadata": {
    "collapsed": true
   },
   "outputs": [],
   "source": [
    "# Paste your code here\n"
   ]
  }
 ],
 "metadata": {
  "kernelspec": {
   "display_name": "Python 2",
   "language": "python",
   "name": "python2"
  },
  "language_info": {
   "codemirror_mode": {
    "name": "ipython",
    "version": 2
   },
   "file_extension": ".py",
   "mimetype": "text/x-python",
   "name": "python",
   "nbconvert_exporter": "python",
   "pygments_lexer": "ipython2",
   "version": "2.7.11"
  }
 },
 "nbformat": 4,
 "nbformat_minor": 0
}
