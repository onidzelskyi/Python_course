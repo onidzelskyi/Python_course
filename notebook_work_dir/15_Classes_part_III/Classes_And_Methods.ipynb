{
 "cells": [
  {
   "cell_type": "markdown",
   "metadata": {},
   "source": [
    "# 1. Object-oriented features\n",
    "\n",
    "<pre>\n",
    "Три принципа объектно-ориентированного программирования\n",
    "* Инкапсуляция\n",
    "* Наследование\n",
    "* Полиморфизм\n",
    "\n",
    "Python является объектно-ориентированным языком программирования, \n",
    "что означает, что он предоставляет возможности, которые поддерживают объектно-ориентированное программирование.\n",
    "\n",
    "Дать определение объектно-ориентированному программированию не легко, \n",
    "но мы уже видели некоторые из его характеристик:\n",
    "    \n",
    "    • Программы состоят из определений объектов и определения функций, \n",
    "      и большинство вычислений выражается в терминах операций и объектов;\n",
    "    \n",
    "    • Каждое определение объекта соответствует какому-либо предмету или понятию в реальном мире,\n",
    "      и функции, которые работают с этими объектами, соответствуют способу взаимодействия объектов с реальным миром.\n",
    "    \n",
    "Например, класс Time соответствует форме записи времени суток людьми, \n",
    "а функции, которые мы определили для этого класса, соответствуют видам операций, которые люди выполняют \n",
    "с временем. \n",
    "\n",
    "Точно так же, классы Point и Rectangle соответствуют области математических понятий точки и прямоугольника.\n",
    "</pre>"
   ]
  },
  {
   "cell_type": "markdown",
   "metadata": {},
   "source": [
    "# 7. Points revisited\n",
    "\n",
    "<pre>\n",
    "Давайте перепишем класс Point в объектно-ориентированном стиле:\n",
    "</pre>"
   ]
  },
  {
   "cell_type": "code",
   "execution_count": null,
   "metadata": {
    "collapsed": true
   },
   "outputs": [],
   "source": [
    "class Point(object):\n",
    "    def __init__(self, x=0, y=0):\n",
    "        self.x = x\n",
    "        self.y = y\n",
    "    \n",
    "    def __str__(self):\n",
    "        return \"({}, {})\".format(self.x, self.y)"
   ]
  },
  {
   "cell_type": "markdown",
   "metadata": {},
   "source": [
    "<pre>\n",
    "Метод инициализации принимает значения необязательных параметров х и у; \n",
    "по умолчанию для любого из этих параметров является 0.\n",
    "Следующий метод __str__ возвращает строковое представление объекта Point. \n",
    "\n",
    "Если ЛЮБОЙ класс ПЕРЕОПРЕДЕЛЯЕТ данный метод, названный __str__, он перекрывает поведение по умолчанию Python\n",
    "встроенной функции __str__.\n",
    "</pre>"
   ]
  },
  {
   "cell_type": "code",
   "execution_count": null,
   "metadata": {
    "collapsed": false
   },
   "outputs": [],
   "source": [
    "p = Point(3, 4)\n",
    "str(p)"
   ]
  },
  {
   "cell_type": "markdown",
   "metadata": {},
   "source": [
    "<pre>\n",
    "Печать объекта Point также неявно вызывает метод __str__  объекта, \n",
    "так что переопределение  __str__ также изменяет поведение печати:\n",
    "</pre>"
   ]
  },
  {
   "cell_type": "code",
   "execution_count": null,
   "metadata": {
    "collapsed": false
   },
   "outputs": [],
   "source": [
    "print(p)"
   ]
  },
  {
   "cell_type": "markdown",
   "metadata": {},
   "source": [
    "<pre>\n",
    "Когда мы создаем новый класс, мы почти всегда начинаем с написания метода\n",
    "    __init__()\n",
    "что позволяет легче создавать объекты, и\n",
    "    __str__\n",
    "который почти всегда полезен для отладки.\n",
    "</pre>\n",
    "\n",
    "# 8. Operator overloading\n",
    "\n",
    "<pre>\n",
    "Некоторые языки программирования позволяют изменить определение встроенных операторов, когда они применяются \n",
    "к пользовательским типам. \n",
    "Эта функция называется перегрузка операторов.\n",
    "Это особенно полезно при определении новых математических типов.\n",
    "Например, чтобы переопределить оператор сложения +, мы предоставляем метод \n",
    "    __add__:\n",
    "</pre>"
   ]
  },
  {
   "cell_type": "code",
   "execution_count": null,
   "metadata": {
    "collapsed": true
   },
   "outputs": [],
   "source": [
    "class Point(object):\n",
    "    def __init__(self, x=0, y=0):\n",
    "        self.x = x\n",
    "        self.y = y\n",
    "    \n",
    "    def __str__(self):\n",
    "        return \"({}, {})\".format(self.x, self.y)\n",
    "    \n",
    "    def __add__(self, other):\n",
    "        return Point(self.x + other.x, self.y + other.y)"
   ]
  },
  {
   "cell_type": "markdown",
   "metadata": {},
   "source": [
    "<pre>\n",
    "Как обычно, первым параметром является ссылка на объект, для которого вызывается метод.\n",
    "Второй параметр для удобства назван other, чтобы отличить его от self. \n",
    "Чтобы сложить два Point, мы создаем и возвращаем новый Point,\n",
    "который содержит сумму координат х и сумму координат у.\n",
    "Теперь, когда мы применяем оператор + для Point объектов, Python вызывает \n",
    "    __add__()\n",
    "</pre>"
   ]
  },
  {
   "cell_type": "code",
   "execution_count": null,
   "metadata": {
    "collapsed": false
   },
   "outputs": [],
   "source": [
    "p1 = Point(3, 4)\n",
    "p2 = Point(5, 7)\n",
    "p3=p1+p2\n",
    "print(p3)"
   ]
  },
  {
   "cell_type": "markdown",
   "metadata": {},
   "source": [
    "<pre>\n",
    "Выражение\n",
    "\n",
    "    р1 + P2 \n",
    "\n",
    "эквивалентно\n",
    "\n",
    "p1.__add__(P2)\n",
    "\n",
    "но выглядит более удобно.\n",
    "\n",
    "В качестве упражнения добавьте метод\n",
    "\n",
    "    __sub__(self, other)\n",
    "    \n",
    "который перегружает оператор вычитания, и проверьте его.\n",
    "</pre>"
   ]
  },
  {
   "cell_type": "code",
   "execution_count": null,
   "metadata": {
    "collapsed": true
   },
   "outputs": [],
   "source": [
    "class Point(object):\n",
    "    def __init__(self, x=0, y=0):\n",
    "        self.x = x\n",
    "        self.y = y\n",
    "    \n",
    "    def __str__(self):\n",
    "        return \"({}, {})\".format(self.x, self.y)\n",
    "    \n",
    "    def __add__(self, other):\n",
    "        return Point(self.x + other.x, self.y + other.y)\n",
    "    \n",
    "    # Type your code here\n",
    "\n",
    "    \n",
    "# Test\n",
    "p1 = Point(5, 7)\n",
    "p2 = Point(3, 4)\n",
    "p3=p1-p2\n",
    "print(p3)"
   ]
  },
  {
   "cell_type": "markdown",
   "metadata": {},
   "source": [
    "<pre>\n",
    "Существует также несколько способов чтобы переопределить поведение оператора умножения: \n",
    "путем определения метода с именем __mul__ или __rmul__, или обеих.\n",
    "\n",
    "Если левым операндом \"*\" является точка, Python вызывает __mul__, который предполагает, что другой операнд также точка.\n",
    "Он вычисляет скалярное произведение двух точек, определенного в соответствии с правилами линейной алгебры:\n",
    "</pre>"
   ]
  },
  {
   "cell_type": "code",
   "execution_count": null,
   "metadata": {
    "collapsed": true
   },
   "outputs": [],
   "source": [
    "class Point:\n",
    "    def __init__(self, x=0, y=0):\n",
    "        self.x = x\n",
    "        self.y = y\n",
    "    \n",
    "    def __str__(self):\n",
    "        return \"({}, {})\".format(self.x, self.y)\n",
    "    \n",
    "    def __add__(self, other):\n",
    "        return Point(self.x + other.x, self.y + other.y)\n",
    "    \n",
    "    def __mul__(self, other):\n",
    "        return self.x * other.x + self.y * other.y"
   ]
  },
  {
   "cell_type": "markdown",
   "metadata": {},
   "source": [
    "<pre>\n",
    "Если левый операнд \"*\" является примитивным типом, а правый операнд Point, \n",
    "Python вызывает __rmul__, который выполняет скалярное умножение:\n",
    "</pre>"
   ]
  },
  {
   "cell_type": "code",
   "execution_count": null,
   "metadata": {
    "collapsed": true
   },
   "outputs": [],
   "source": [
    "class Point:\n",
    "    def __init__(self, x=0, y=0):\n",
    "        self.x = x\n",
    "        self.y = y\n",
    "    \n",
    "    def __str__(self):\n",
    "        return \"({}, {})\".format(self.x, self.y)\n",
    "    \n",
    "    def __add__(self, other):\n",
    "        return Point(self.x + other.x, self.y + other.y)\n",
    "    \n",
    "    def __mul__(self, other):\n",
    "        return self.x * other.x + self.y * other.y\n",
    "    \n",
    "    def __rmul__(self, other):\n",
    "        return Point(other * self.x,  other * self.y)"
   ]
  },
  {
   "cell_type": "markdown",
   "metadata": {},
   "source": [
    "<pre>\n",
    "Результатом является новый объект Point, координаты которого являются модификацией исходных координат.\n",
    "Если указать другой тип, который не может быть умножен на число с плавающей точкой, то __rmul__ даст ошибку.\n",
    "Следующий пример демонстрирует виды умножения:\n",
    "</pre>"
   ]
  },
  {
   "cell_type": "code",
   "execution_count": null,
   "metadata": {
    "collapsed": false
   },
   "outputs": [],
   "source": [
    "p1 = Point(3, 4)\n",
    "p2 = Point(5, 7)\n",
    "\n",
    "print(p1 * p2)\n",
    "print(2 * p2)"
   ]
  },
  {
   "cell_type": "markdown",
   "metadata": {},
   "source": [
    "<pre>\n",
    "Что произойдет, если мы попытаемся вычислить p2 * 2? \n",
    "Поскольку первый операнд является Point, Python вызывает __mul__ с \"2\" в качестве второго аргумента. \n",
    "Внутри __mul__, программа пытается получить доступ к координате х other, что ей не удастся, так как тип integer не имеет атрибутов x и y:\n",
    "</pre>"
   ]
  },
  {
   "cell_type": "code",
   "execution_count": null,
   "metadata": {
    "collapsed": false
   },
   "outputs": [],
   "source": [
    "print(p2 * 2)"
   ]
  },
  {
   "cell_type": "markdown",
   "metadata": {},
   "source": [
    "<pre>\n",
    "К сожалению, сообщение об ошибке немного расплывчато. \n",
    "Этот пример демонстрирует некоторые из трудностей объектно-ориентированного программирования. \n",
    "Иногда достаточно трудно выяснить, какой именно код работает.\n",
    "</pre>\n",
    "\n",
    "# 9. Polymorphism\n",
    "\n",
    "<pre>\n",
    "Большинство методов, которые мы написали, будут работать только для определенного типа.\n",
    "Когда вы создаете новый объект, вы описываете методы, которые работают для этого типа.\n",
    "\n",
    "Но существуют некоторые операции, которые вы хотите применить к нескольким типам, например, арифметические операции из предыдущих разделов.\n",
    "Если несколько типов поддерживают одинаковый набор операций, вы можете написать функции, которые работают для любого из этих типов.\n",
    "\n",
    "Например, операция multadd (которая является общей в линейной алгебре) принимает три аргумента; умножает первые два, а затем добавляет третий.\n",
    "Мы можем записать его в Python в следующем виде:\n",
    "</pre>"
   ]
  },
  {
   "cell_type": "code",
   "execution_count": null,
   "metadata": {
    "collapsed": true
   },
   "outputs": [],
   "source": [
    "def multadd (x, y, z):\n",
    "    return x * y + z"
   ]
  },
  {
   "cell_type": "markdown",
   "metadata": {},
   "source": [
    "<pre>\n",
    "Этот метод будет работать для любых значений х и у, которые могут быть умножены и для любого значения z, которое может быть добавлено к произведению.\n",
    "Мы можем вызвать его с числовыми значениями:\n",
    "</pre>"
   ]
  },
  {
   "cell_type": "code",
   "execution_count": null,
   "metadata": {
    "collapsed": false
   },
   "outputs": [],
   "source": [
    "multadd (3, 2, 1)"
   ]
  },
  {
   "cell_type": "markdown",
   "metadata": {},
   "source": [
    "<pre>\n",
    "Или с объектами Point:\n",
    "</pre>"
   ]
  },
  {
   "cell_type": "code",
   "execution_count": null,
   "metadata": {
    "collapsed": false
   },
   "outputs": [],
   "source": [
    "p1 = Point(3, 4)\n",
    "p2 = Point(5, 7)\n",
    "\n",
    "print(multadd(2, p1, p2))\n",
    "print(multadd(p1, p2, 1))"
   ]
  },
  {
   "cell_type": "markdown",
   "metadata": {},
   "source": [
    "<pre>\n",
    "В первом случае, Point умножается на число, а затем добавляется к другой точке.\n",
    "Во втором случае, скалярное произведение дает числовое значение, так что третий аргумент также должен быть\n",
    "числовым значением.\n",
    "\n",
    "Функция, которая может принимать аргументы с различными типами, называется полиморфной.\n",
    "\n",
    "В качестве другого примера рассмотрим метод frontAndBack, которая выводит список дважды, вперед и назад:\n",
    "</pre>"
   ]
  },
  {
   "cell_type": "code",
   "execution_count": null,
   "metadata": {
    "collapsed": false
   },
   "outputs": [],
   "source": [
    "def frontAndBack(front):\n",
    "    # Type your code here\n",
    "    pass"
   ]
  },
  {
   "cell_type": "markdown",
   "metadata": {},
   "source": [
    "<pre>\n",
    "Так как метод reverse является модификатором, мы делаем копию списка до его изменения.\n",
    "Таким образом, этот метод не изменяет список, который он получает в качестве аргумента.\n",
    "Вот пример, который применяет frontAndBack к списку:\n",
    "</pre>"
   ]
  },
  {
   "cell_type": "code",
   "execution_count": null,
   "metadata": {
    "collapsed": false
   },
   "outputs": [],
   "source": [
    "myList = [1, 2, 3, 4]\n",
    "frontAndBack(myList)"
   ]
  },
  {
   "cell_type": "markdown",
   "metadata": {},
   "source": [
    "<pre>\n",
    "Конечно же мы хотели чтобы эта функция применялась к спискам, так что не удивительно, что она работает. \n",
    "Было бы удивительно, если мы могли бы применить ее к Point.\n",
    "\n",
    "Чтобы определить, что данная функция может быть применена к новому типу, применим основное правило полиморфизма:\n",
    "\n",
    "    Если все операции внутри функции могут быть применены к типу, значит, \n",
    "    вся функция может быть применена к типу.\n",
    "\n",
    "Операции внутри метода включают копирование, reverse, и печать.\n",
    "\n",
    "Копирование работает на любом объекте, и мы уже написали метод __str__ для Point.\n",
    "\n",
    "так что все, что мы должны реализовать - это  метод reverse в классе Point:\n",
    "</pre>"
   ]
  },
  {
   "cell_type": "code",
   "execution_count": null,
   "metadata": {
    "collapsed": true
   },
   "outputs": [],
   "source": [
    "class Point:\n",
    "    def __init__(self, x=0, y=0):\n",
    "        self.x = x\n",
    "        self.y = y\n",
    "    \n",
    "    def __str__(self):\n",
    "        return \"({}, {})\".format(self.x, self.y)\n",
    "    \n",
    "    def __add__(self, other):\n",
    "        return Point(self.x + other.x, self.y + other.y)\n",
    "    \n",
    "    def __mul__(self, other):\n",
    "        return self.x * other.x + self.y * other.y\n",
    "    \n",
    "    def __rmul__(self, other):\n",
    "        return Point(other * self.x,  other * self.y)\n",
    "    \n",
    "    def reverse(self):\n",
    "        self.x , self.y = self.y, self.x"
   ]
  },
  {
   "cell_type": "markdown",
   "metadata": {},
   "source": [
    "<pre>\n",
    "Теперь мы можем передавать объекты Point в frontAndBack\n",
    "</pre>"
   ]
  },
  {
   "cell_type": "code",
   "execution_count": null,
   "metadata": {
    "collapsed": false
   },
   "outputs": [],
   "source": [
    "p = Point(3, 4)\n",
    "frontAndBack(p)"
   ]
  },
  {
   "cell_type": "markdown",
   "metadata": {},
   "source": [
    "<pre>\n",
    "Лучшим видом полиморфизма является ненавязчивый сервис, когда вы обнаружите, что функция, которую вы уже написали, может быть применена к типу, для которого она никогда не планировалось.\n",
    "</pre>\n",
    "\n",
    "# Glossary\n",
    "* object-oriented language: A language that provides features, such as user- defined classes and inheritance, that facilitate object-oriented programming.\n",
    "* object-oriented programming: A style of programming in which data and the operations that manipulate it are organized into classes and methods.\n",
    "* method: A function that is defined inside a class definition and is invoked on instances of that class.\n",
    "* override: To replace a default. Examples include replacing a default value with a particular argument and replacing a default method by providing a new method with the same name.\n",
    "* initialization method: A special method that is invoked automatically when a new object is created and that initializes the object’s attributes.\n",
    "* operator overloading: Extending built-in operators (+, -, *, >, <, etc.) so that they work with user-defined types.\n",
    "* dot product: An operation defined in linear algebra that multiplies two Points and yields a numeric value.\n",
    "* scalar multiplication: An operation defined in linear algebra that multiplies each of the coordinates of a Point by a numeric value.\n",
    "* polymorphic: A function that can operate on more than one type. If all the operations in a function can be applied to a type, then the function can be applied to a type."
   ]
  },
  {
   "cell_type": "code",
   "execution_count": null,
   "metadata": {
    "collapsed": true
   },
   "outputs": [],
   "source": []
  }
 ],
 "metadata": {
  "kernelspec": {
   "display_name": "Python 2",
   "language": "python",
   "name": "python2"
  },
  "language_info": {
   "codemirror_mode": {
    "name": "ipython",
    "version": 2
   },
   "file_extension": ".py",
   "mimetype": "text/x-python",
   "name": "python",
   "nbconvert_exporter": "python",
   "pygments_lexer": "ipython2",
   "version": "2.7.11"
  }
 },
 "nbformat": 4,
 "nbformat_minor": 0
}
