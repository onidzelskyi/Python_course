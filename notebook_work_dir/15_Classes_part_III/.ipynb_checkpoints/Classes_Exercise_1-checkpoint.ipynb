{
 "cells": [
  {
   "cell_type": "markdown",
   "metadata": {},
   "source": [
    "# Classes\n",
    "\n",
    "## 1. \n",
    "<pre>\n",
    "Какой метод вызывается, когда создается объект?\n",
    "\n",
    "      self\n",
    "     obj.self\n",
    "     init  \n",
    "     __init__  \n",
    "     new\n",
    "</pre>"
   ]
  },
  {
   "cell_type": "markdown",
   "metadata": {},
   "source": [
    "## 2. \n",
    "<pre>\n",
    "Если у вас есть экземпляр объекта obj и вы хотите вызвать его метод doSomething(), как записать данный вызов?\n",
    "</pre>"
   ]
  },
  {
   "cell_type": "markdown",
   "metadata": {},
   "source": [
    "## 3. \n",
    "<pre>\n",
    "True or False? Атрибуты объекта всегда должны быть объявлены только в методе  __init__ \n",
    "</pre>"
   ]
  },
  {
   "cell_type": "markdown",
   "metadata": {},
   "source": [
    "## 4.\n",
    "<pre>\n",
    "Код ниже объявляет класс Address. Класс нуждается в двух атрибутах: number и streetName. Пожалуйста, добавьте две строчки кода, создающие эти атрибуты из соответсвующих параметров\n",
    "</pre>"
   ]
  },
  {
   "cell_type": "code",
   "execution_count": null,
   "metadata": {
    "collapsed": false
   },
   "outputs": [],
   "source": [
    "class Address(object):\n",
    "    def __init__(self, number, streetName):\n",
    "        # Line 1: Creating a number attribute\n",
    "        # Line 2: Creating a streetName attribute  \n",
    "        \n",
    "addr = Address(10, \"KMarksa\")"
   ]
  },
  {
   "cell_type": "markdown",
   "metadata": {},
   "source": [
    "<pre>\n",
    "Ниже приведен код Python.\n",
    "В следующих вопросах назовите тип и значение указанного выражения.\n",
    "Если выражение будет вызывать ошибку, укажите тип NoneType и значение error.\n",
    "Если результатом выражения является функция, укажите тип function и значение function.\n",
    "</pre>"
   ]
  },
  {
   "cell_type": "code",
   "execution_count": null,
   "metadata": {
    "collapsed": true
   },
   "outputs": [],
   "source": [
    "class Weird(object):\n",
    "    def __init__(self, x, y): \n",
    "        self.y = y\n",
    "        self.x = x\n",
    "\n",
    "    def getX(self):\n",
    "        return x \n",
    "    \n",
    "    def getY(self):\n",
    "        return y\n",
    "\n",
    "class Wild(object):\n",
    "    def __init__(self, x, y): \n",
    "        self.y = y\n",
    "        self.x = x\n",
    "    \n",
    "    def getX(self):\n",
    "        return self.x \n",
    "    \n",
    "    def getY(self):\n",
    "        return self.y\n",
    "\n",
    "X = 7\n",
    "Y = 8"
   ]
  },
  {
   "cell_type": "markdown",
   "metadata": {},
   "source": [
    "## 5.\n",
    "<pre>\n",
    "Тип выражения?\n",
    "Значение выражения?\n",
    "</pre>"
   ]
  },
  {
   "cell_type": "code",
   "execution_count": null,
   "metadata": {
    "collapsed": false
   },
   "outputs": [],
   "source": [
    "w1 = Weird(X, Y)\n",
    "print w1.getX()"
   ]
  },
  {
   "cell_type": "markdown",
   "metadata": {},
   "source": [
    "## 6.\n",
    "<pre>\n",
    "Тип выражения?\n",
    "Значение выражения?\n",
    "</pre>"
   ]
  },
  {
   "cell_type": "code",
   "execution_count": null,
   "metadata": {
    "collapsed": false
   },
   "outputs": [],
   "source": [
    "print w1.getY()"
   ]
  },
  {
   "cell_type": "markdown",
   "metadata": {},
   "source": [
    "## 7.\n",
    "<pre>\n",
    "Тип выражения?\n",
    "Значение выражения?\n",
    "</pre>"
   ]
  },
  {
   "cell_type": "code",
   "execution_count": null,
   "metadata": {
    "collapsed": false
   },
   "outputs": [],
   "source": [
    "w2 = Wild(X, Y)\n",
    "print w2.getX()"
   ]
  },
  {
   "cell_type": "markdown",
   "metadata": {},
   "source": [
    "## 8.\n",
    "<pre>\n",
    "Тип выражения?\n",
    "Значение выражения?\n",
    "</pre>"
   ]
  },
  {
   "cell_type": "code",
   "execution_count": null,
   "metadata": {
    "collapsed": false
   },
   "outputs": [],
   "source": [
    "print w2.getY()"
   ]
  },
  {
   "cell_type": "markdown",
   "metadata": {},
   "source": [
    "## 9.\n",
    "<pre>\n",
    "Тип выражения?\n",
    "Значение выражения?\n",
    "</pre>"
   ]
  },
  {
   "cell_type": "code",
   "execution_count": null,
   "metadata": {
    "collapsed": false
   },
   "outputs": [],
   "source": [
    "w3 = Wild(17, 18)\n",
    "print w3.getX()"
   ]
  },
  {
   "cell_type": "markdown",
   "metadata": {},
   "source": [
    "## 10.\n",
    "<pre>\n",
    "Тип выражения?\n",
    "Значение выражения?\n",
    "</pre>"
   ]
  },
  {
   "cell_type": "code",
   "execution_count": null,
   "metadata": {
    "collapsed": false
   },
   "outputs": [],
   "source": [
    "print w3.getY()"
   ]
  },
  {
   "cell_type": "markdown",
   "metadata": {},
   "source": [
    "## 11.\n",
    "<pre>\n",
    "Тип выражения?\n",
    "Значение выражения?\n",
    "</pre>"
   ]
  },
  {
   "cell_type": "code",
   "execution_count": null,
   "metadata": {
    "collapsed": false
   },
   "outputs": [],
   "source": [
    "w4 = Wild(X, 18)\n",
    "print w4.getX()"
   ]
  },
  {
   "cell_type": "markdown",
   "metadata": {},
   "source": [
    "## 12.\n",
    "<pre>\n",
    "Тип выражения?\n",
    "Значение выражения?\n",
    "</pre>"
   ]
  },
  {
   "cell_type": "code",
   "execution_count": null,
   "metadata": {
    "collapsed": false
   },
   "outputs": [],
   "source": [
    "print w4.getY()"
   ]
  },
  {
   "cell_type": "markdown",
   "metadata": {},
   "source": [
    "## 13.\n",
    "<pre>\n",
    "Тип выражения?\n",
    "Значение выражения?\n",
    "</pre>"
   ]
  },
  {
   "cell_type": "code",
   "execution_count": null,
   "metadata": {
    "collapsed": false
   },
   "outputs": [],
   "source": [
    "X = w4.getX() + w3.getX() + w2.getX()\n",
    "print X"
   ]
  },
  {
   "cell_type": "markdown",
   "metadata": {},
   "source": [
    "## 14.\n",
    "<pre>\n",
    "Тип выражения?\n",
    "Значение выражения?\n",
    "</pre>"
   ]
  },
  {
   "cell_type": "code",
   "execution_count": null,
   "metadata": {
    "collapsed": false
   },
   "outputs": [],
   "source": [
    "print w4.getX()"
   ]
  },
  {
   "cell_type": "markdown",
   "metadata": {},
   "source": [
    "## 15.\n",
    "<pre>\n",
    "Тип выражения?\n",
    "Значение выражения?\n",
    "</pre>"
   ]
  },
  {
   "cell_type": "code",
   "execution_count": null,
   "metadata": {
    "collapsed": false
   },
   "outputs": [],
   "source": [
    "Y = w4.getY() + w3.getY()\n",
    "Y = Y + w2.getY()\n",
    "print Y"
   ]
  },
  {
   "cell_type": "markdown",
   "metadata": {},
   "source": [
    "## 16.\n",
    "<pre>\n",
    "Тип выражения?\n",
    "Значение выражения?\n",
    "</pre>"
   ]
  },
  {
   "cell_type": "code",
   "execution_count": null,
   "metadata": {
    "collapsed": false
   },
   "outputs": [],
   "source": [
    "print w2.getY()"
   ]
  },
  {
   "cell_type": "markdown",
   "metadata": {},
   "source": [
    "## 17.\n",
    "<pre>\n",
    "Рассмотрим представленный ниже код\n",
    "Ваша задача заключается в определении следующих двух методов для класса Coordinate:\n",
    "\n",
    "1. Добавить метод __eq__, который возвращает True, если координаты относятся к той же точке на плоскости (то есть имеют те же координаты х и у).\n",
    "\n",
    "2. Определить специальный метод __repr__, который возвращает строку, которая выглядит как допустимое выражение Python, которое может быть использовано для воссоздания объекта с тем же значением.\n",
    "Другими словами, \n",
    "\n",
    "    eval(repr(c)) == c\n",
    "\n",
    "согласно определенному вами методу __eq__ в п. 1\n",
    "</pre>"
   ]
  },
  {
   "cell_type": "code",
   "execution_count": null,
   "metadata": {
    "collapsed": false
   },
   "outputs": [],
   "source": [
    "class Coordinate(object):\n",
    "    def __init__(self, x, y):\n",
    "        self.x = x\n",
    "        self.y = y\n",
    "\n",
    "    def getX(self):\n",
    "        # Getter method for a Coordinate object's x coordinate.\n",
    "        # Getter methods are better practice than just accessing an attribute directly\n",
    "        return self.x\n",
    "\n",
    "    def getY(self):\n",
    "        # Getter method for a Coordinate object's y coordinate\n",
    "        return self.y\n",
    "\n",
    "    def __str__(self):\n",
    "        return '<' + str(self.getX()) + ',' + str(self.getY()) + '>'\n",
    "    \n",
    "    # Paste your code here    \n",
    "    def __repr__(self):\n",
    "        #return \"Coordinate(%d,%d)\" % (self.getX, self.getY)\n",
    "        return \"%s(%d,%d)\" % (self.__class__.__name__, self.getX(), self.getY())\n",
    "    \n",
    "    def __eq__(self, other):\n",
    "        assert(type(self)==type(other))\n",
    "        return self.getX()==other.getX() and self.getY()==other.getY()\n",
    "    \n",
    "c = Coordinate(5,6)\n",
    "e = Coordinate(5,6)\n",
    "f = Coordinate(5,5)\n",
    "str = repr(c)\n",
    "print c==str # True\n",
    "print e==f # False\n",
    "\n",
    "\n",
    "print str\n",
    "#d = eval(str)\n",
    "\n",
    "#print c, d"
   ]
  },
  {
   "cell_type": "markdown",
   "metadata": {},
   "source": [
    "## 18.\n",
    "<pre>\n",
    "Рассмотрим представленный ниже код\n",
    "Ваша задача определить следующие два метода класса intSet:\n",
    "\n",
    "1. Определить метод intersect, который возвращает новый intSet,\n",
    "содержащий элементы, которые присутствуют в обоих наборах.\n",
    "Другими словами:\n",
    "\n",
    "    s1.intersect(s2)\n",
    "    \n",
    "вернет новый intSet целых чисел, которые присутствуют в обоих s1 и s2. \n",
    "Подумайте, что должно произойти, если S1 и S2 не имеют общих элементов?\n",
    "\n",
    "2. Добавьте соответствующий метод(ы), так что \n",
    "    \n",
    "    len(s) \n",
    "    \n",
    "вернет количество элементов в s.\n",
    "</pre>\n",
    "Подсказка Подробнее о методе len() и других встроенных методах можно почитать [здесь](https://docs.python.org/release/2.7.3/reference/datamodel.html)\n"
   ]
  },
  {
   "cell_type": "code",
   "execution_count": null,
   "metadata": {
    "collapsed": false
   },
   "outputs": [],
   "source": [
    "class intSet(object):\n",
    "    \"\"\"An intSet is a set of integers\n",
    "    The value is represented by a list of ints, self.vals.\n",
    "    Each int in the set occurs in self.vals exactly once.\"\"\"\n",
    "\n",
    "    def __init__(self):\n",
    "        \"\"\"Create an empty set of integers\"\"\"\n",
    "        self.vals = []\n",
    "\n",
    "    def insert(self, e):\n",
    "        \"\"\"Assumes e is an integer and inserts e into self\"\"\" \n",
    "        if not e in self.vals:\n",
    "            self.vals.append(e)\n",
    "\n",
    "    def member(self, e):\n",
    "        \"\"\"Assumes e is an integer\n",
    "           Returns True if e is in self, and False otherwise\"\"\"\n",
    "        return e in self.vals\n",
    "\n",
    "    def remove(self, e):\n",
    "        \"\"\"Assumes e is an integer and removes e from self\n",
    "           Raises ValueError if e is not in self\"\"\"\n",
    "        try:\n",
    "            self.vals.remove(e)\n",
    "        except:\n",
    "            raise ValueError(str(e) + ' not found')\n",
    "\n",
    "    def __str__(self):\n",
    "        \"\"\"Returns a string representation of self\"\"\"\n",
    "        self.vals.sort()\n",
    "        L = [str(e) for e in self.vals]\n",
    "        #print L\n",
    "        s = ','.join(L)\n",
    "        return '{'+ s + '}'\n",
    "    \n",
    "    # Paste your code here\n",
    "    def intersect(self, other):\n",
    "        res = intSet()\n",
    "        for item in self.vals:\n",
    "            if item in other.vals: res.insert(item)\n",
    "        return res\n",
    "    \n",
    "    def __len__(self):\n",
    "        return \n",
    "\n",
    "a = intSet()\n",
    "a.insert(1)\n",
    "a.insert(2)\n",
    "a.insert(3)\n",
    "\n",
    "b = intSet()\n",
    "b.insert(3)\n",
    "b.insert(2)\n",
    "b.insert(5)\n",
    "\n",
    "c = a.intersect(b)\n",
    "print c\n",
    "len(c)"
   ]
  }
 ],
 "metadata": {
  "kernelspec": {
   "display_name": "Python 2",
   "language": "python",
   "name": "python2"
  },
  "language_info": {
   "codemirror_mode": {
    "name": "ipython",
    "version": 2
   },
   "file_extension": ".py",
   "mimetype": "text/x-python",
   "name": "python",
   "nbconvert_exporter": "python",
   "pygments_lexer": "ipython2",
   "version": "2.7.11"
  }
 },
 "nbformat": 4,
 "nbformat_minor": 0
}
