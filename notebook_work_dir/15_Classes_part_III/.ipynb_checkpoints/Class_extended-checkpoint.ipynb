{
 "cells": [
  {
   "cell_type": "markdown",
   "metadata": {},
   "source": [
    "Built-In Class Attributes\n",
    "==\n",
    "<pre>\n",
    "Every Python class keeps following built-in attributes and they can be accessed using dot operator like any other attribute\n",
    "\n",
    "    __dict__: Dictionary containing the class's namespace.\n",
    "\n",
    "    __doc__: Class documentation string or none, if undefined.\n",
    "\n",
    "    __name__: Class name.\n",
    "\n",
    "    __module__: Module name in which the class is defined. This attribute is \"__main__\" in interactive mode.\n",
    "\n",
    "    __bases__: A possibly empty tuple containing the base classes, in the order of their occurrence in the base class\n",
    "    list.\n",
    "    \n",
    "Create simple class and print out class attributes    \n",
    "</pre>"
   ]
  },
  {
   "cell_type": "code",
   "execution_count": null,
   "metadata": {
    "collapsed": true
   },
   "outputs": [],
   "source": [
    "# Type your code here\n"
   ]
  },
  {
   "cell_type": "markdown",
   "metadata": {},
   "source": [
    "Destroying Objects (Garbage Collection)\n",
    "==\n",
    "reference count increases when:\n",
    "* it is assigned a new name \n",
    "* placed in a container (list, tuple, or dictionary)\n",
    "\n",
    "The object's reference count decreases when:\n",
    "* it's deleted with del\n",
    "* its reference is reassigned\n",
    "* or its reference goes out of scope\n",
    "\n",
    "When an object's reference count reaches zero, Python collects it automatically."
   ]
  },
  {
   "cell_type": "code",
   "execution_count": null,
   "metadata": {
    "collapsed": true
   },
   "outputs": [],
   "source": [
    "a = 40      # Create object <40>\n",
    "b = a       # Increase ref. count  of <40> \n",
    "c = [b]     # Increase ref. count  of <40> \n",
    "\n",
    "del a       # Decrease ref. count  of <40>\n",
    "b = 100     # Decrease ref. count  of <40> \n",
    "c[0] = -1   # Decrease ref. count  of <40> "
   ]
  },
  {
   "cell_type": "markdown",
   "metadata": {},
   "source": [
    "Class Destructor\n",
    "==\n"
   ]
  },
  {
   "cell_type": "code",
   "execution_count": null,
   "metadata": {
    "collapsed": false
   },
   "outputs": [],
   "source": [
    "class Point:\n",
    "    # Type your code here\n",
    "    pass\n",
    "\n",
    "\n",
    "pt1 = Point()\n",
    "pt2 = pt1\n",
    "pt3 = pt1\n",
    "print(id(pt1), id(pt2), id(pt3)) # prints the ids of the objects\n",
    "del pt1\n",
    "del pt2\n",
    "del pt3"
   ]
  },
  {
   "cell_type": "markdown",
   "metadata": {},
   "source": [
    "Data hiding\n",
    "=="
   ]
  },
  {
   "cell_type": "code",
   "execution_count": null,
   "metadata": {
    "collapsed": false
   },
   "outputs": [],
   "source": [
    "class JustCounter:\n",
    "    __secretCount = 0\n",
    "\n",
    "    def count(self):\n",
    "        self.__secretCount += 1\n",
    "        print self.__secretCount\n",
    "\n",
    "counter = JustCounter()\n",
    "counter.count()\n",
    "counter.count()\n",
    "print(counter.__secretCount)\n",
    "# but \n",
    "# print counter._JustCounter__secretCount"
   ]
  },
  {
   "cell_type": "markdown",
   "metadata": {},
   "source": [
    "Public, protected, private\n",
    "==\n",
    "\n",
    "Name | Notation | Behaviour\n",
    "-- | -- | --\n",
    "name |Public | Can be accessed from inside and outside\n",
    "\\_name | Protected | Like a public member, but they shouldn't be directly accessed from outside.\n",
    "\\__name | Private | Can't be seen and accessed from outside"
   ]
  },
  {
   "cell_type": "code",
   "execution_count": null,
   "metadata": {
    "collapsed": true
   },
   "outputs": [],
   "source": [
    "class Encapsulation(object):\n",
    "    def __init__(self, a, b, c):\n",
    "        self.public = a\n",
    "        self._protected = b\n",
    "        self.__private = c\n",
    "        \n",
    "# Test\n",
    "some = Encapsulation(1, 2, 3)\n",
    "# Type your code to access public, protected and private members"
   ]
  },
  {
   "cell_type": "markdown",
   "metadata": {},
   "source": [
    "Accessors, mutators for private members\n",
    "=="
   ]
  },
  {
   "cell_type": "code",
   "execution_count": null,
   "metadata": {
    "collapsed": true
   },
   "outputs": [],
   "source": [
    "# Type your code here\n"
   ]
  },
  {
   "cell_type": "markdown",
   "metadata": {},
   "source": [
    "Abstract Classes\n",
    "=="
   ]
  },
  {
   "cell_type": "code",
   "execution_count": null,
   "metadata": {
    "collapsed": true
   },
   "outputs": [],
   "source": [
    "class Vehicle(object):\n",
    "    \"\"\"A vehicle for sale by Jeffco Car Dealership.\n",
    "\n",
    "    Attributes:\n",
    "        wheels: An integer representing the number of wheels the vehicle has.\n",
    "        miles: The integral number of miles driven on the vehicle.\n",
    "        make: The make of the vehicle as a string.\n",
    "        model: The model of the vehicle as a string.\n",
    "        year: The integral year the vehicle was built.\n",
    "        sold_on: The date the vehicle was sold.\n",
    "    \"\"\"\n",
    "\n",
    "    base_sale_price = 0\n",
    "\n",
    "    def __init__(self, wheels, miles, make, model, year, sold_on):\n",
    "        \"\"\"Return a new Vehicle object.\"\"\"\n",
    "        self.wheels = wheels\n",
    "        self.miles = miles\n",
    "        self.make = make\n",
    "        self.model = model\n",
    "        self.year = year\n",
    "        self.sold_on = sold_on\n",
    "\n",
    "\n",
    "    def sale_price(self):\n",
    "        \"\"\"Return the sale price for this vehicle as a float amount.\"\"\"\n",
    "        if self.sold_on is not None:\n",
    "            return 0.0  # Already sold\n",
    "        return 5000.0 * self.wheels\n",
    "\n",
    "    def purchase_price(self):\n",
    "        \"\"\"Return the price for which we would pay to purchase the vehicle.\"\"\"\n",
    "        if self.sold_on is None:\n",
    "            return 0.0  # Not yet sold\n",
    "        return self.base_sale_price - (.10 * self.miles)"
   ]
  },
  {
   "cell_type": "code",
   "execution_count": null,
   "metadata": {
    "collapsed": true
   },
   "outputs": [],
   "source": [
    "# make the Car and Truck class inherit from the Vehicle class \n",
    "# by replacing object in the line class Car(object)\n",
    "class Car(Vehicle):\n",
    "    pass\n",
    "    # Type your code here\n",
    "\n",
    "\n",
    "class Truck(Vehicle):\n",
    "    pass\n",
    "    # Type your code here\n",
    "    "
   ]
  },
  {
   "cell_type": "code",
   "execution_count": null,
   "metadata": {
    "collapsed": false
   },
   "outputs": [],
   "source": [
    "v = Car(4, 0, 'Honda', 'Accord', 2014, 10)\n",
    "print v.purchase_price()"
   ]
  },
  {
   "cell_type": "markdown",
   "metadata": {},
   "source": [
    "Inheritance\n",
    "=="
   ]
  },
  {
   "cell_type": "code",
   "execution_count": null,
   "metadata": {
    "collapsed": true
   },
   "outputs": [],
   "source": [
    "def can_speak(some):\n",
    "    if isinstance(some, Person):\n",
    "        return True\n",
    "    elif isinstance(some, Monkey):\n",
    "        return False\n",
    "    else:\n",
    "        raise RuntimeError('Unknown animal!')"
   ]
  },
  {
   "cell_type": "code",
   "execution_count": null,
   "metadata": {
    "collapsed": true
   },
   "outputs": [],
   "source": [
    "def can_speak(some):\n",
    "    return some.can_speak()"
   ]
  },
  {
   "cell_type": "code",
   "execution_count": null,
   "metadata": {
    "collapsed": true
   },
   "outputs": [],
   "source": [
    "# Type your code here\n",
    "# Base class Mammal\n",
    "# Derived classes Human, Monkey\n",
    "# Overload method can_speak()\n"
   ]
  },
  {
   "cell_type": "markdown",
   "metadata": {},
   "source": [
    "eval, str, repr\n",
    "=="
   ]
  },
  {
   "cell_type": "code",
   "execution_count": null,
   "metadata": {
    "collapsed": false
   },
   "outputs": [],
   "source": [
    "class A(object):\n",
    "    pass"
   ]
  },
  {
   "cell_type": "markdown",
   "metadata": {},
   "source": [
    "Another example\n",
    "=="
   ]
  },
  {
   "cell_type": "code",
   "execution_count": null,
   "metadata": {
    "collapsed": false
   },
   "outputs": [],
   "source": [
    "import datetime\n",
    "today = datetime.datetime.now()\n",
    "str_s = str(today)\n",
    "eval(str_s)"
   ]
  },
  {
   "cell_type": "code",
   "execution_count": null,
   "metadata": {
    "collapsed": false
   },
   "outputs": [],
   "source": [
    "repr_s = repr(today)\n",
    "t = eval(repr_s)\n",
    "type(t)"
   ]
  },
  {
   "cell_type": "markdown",
   "metadata": {},
   "source": [
    "Person Class\n",
    "==\n",
    "\n",
    "Modeling a person is a classic exercise for people who are trying to learn how to write classes. We are all familiar with characteristics and behaviors of people, so it is a good exercise to try.\n",
    "Define a Person() class.\n",
    "In the __init()__ function, define several attributes of a person. Good attributes to consider are name, age, place of birth, and anything else you like to know about the people in your life.\n",
    "Write one method. This could be as simple as introduce_yourself(). This method would print out a statement such as, \"Hello, my name is Eric.\"\n",
    "You could also make a method such as age_person(). A simple version of this method would just add 1 to the person's age.\n",
    "A more complicated version of this method would involve storing the person's birthdate rather than their age, and then calculating the age whenever the age is requested. But dealing with dates and times is not particularly easy if you've never done it in any other programming language before.\n",
    "Create a person, set the attribute values appropriately, and print out information about the person.\n",
    "Call your method on the person you created. Make sure your method executed properly; if the method does not print anything out directly, print something before and after calling the method to make sure it did what it was supposed to.\n",
    "\n",
    "\n",
    "Car Class\n",
    "==\n",
    "Modeling a car is another classic exercise.\n",
    "Define a Car() class.\n",
    "In the __init__() function, define several attributes of a car. Some good attributes to consider are make (Subaru, Audi, Volvo...), model (Outback, allroad, C30), year, num_doors, owner, or any other aspect of a car you care to include in your class.\n",
    "Write one method. This could be something such as describe_car(). This method could print a series of statements that describe the car, using the information that is stored in the attributes. You could also write a method that adjusts the mileage of the car or tracks its position.\n",
    "Create a car object, and use your method.\n",
    "Create several car objects with different values for the attributes. Use your method on several of your cars.\n",
    "Importing Student\n",
    "\n",
    "Import modules\n",
    "==\n",
    "\n",
    "Save your Person and Student classes in a separate file called person.py.\n",
    "Save the code that uses these classes in four separate files.\n",
    "\n",
    "    In the first file, use the from module_name import ClassName syntax to make your program run.\n",
    "    In the second file, use the import module_name syntax.\n",
    "    In the third file, use the import module_name as different_local_module_name syntax.\n",
    "    In the fourth file, use the import * syntax.\n",
    "\n",
    "Take your program from Car Class\n",
    "Save your Car class in a separate file called car.py.\n",
    "Save the code that uses the car class into four separate files.\n",
    "\n",
    "    In the first file, use the from module_name import ClassName syntax to make your program run.\n",
    "    In the second file, use the import module_name syntax.\n",
    "    In the third file, use the import module_name as different_local_module_name syntax.\n",
    "    In the fourth file, use the import * syntax."
   ]
  },
  {
   "cell_type": "code",
   "execution_count": null,
   "metadata": {
    "collapsed": true
   },
   "outputs": [],
   "source": []
  }
 ],
 "metadata": {
  "kernelspec": {
   "display_name": "Python 2",
   "language": "python",
   "name": "python2"
  },
  "language_info": {
   "codemirror_mode": {
    "name": "ipython",
    "version": 2
   },
   "file_extension": ".py",
   "mimetype": "text/x-python",
   "name": "python",
   "nbconvert_exporter": "python",
   "pygments_lexer": "ipython2",
   "version": "2.7.11"
  }
 },
 "nbformat": 4,
 "nbformat_minor": 0
}
