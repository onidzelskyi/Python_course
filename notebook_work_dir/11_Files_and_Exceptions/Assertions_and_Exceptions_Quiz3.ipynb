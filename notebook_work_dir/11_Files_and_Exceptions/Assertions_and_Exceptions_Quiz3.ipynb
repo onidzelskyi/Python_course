{
 "cells": [
  {
   "cell_type": "markdown",
   "metadata": {},
   "source": [
    "Suppose we rewrite the FancyDivide function to use a helper function.\n",
    "\n",
    "      \n",
    "    def FancyDivide(list_of_numbers, index):\n",
    "       denom = list_of_numbers[index]\n",
    "       return [SimpleDivide(item, denom)\n",
    "                   for item in list_of_numbers]\n",
    "\n",
    "\n",
    "    def SimpleDivide(item, denom):\n",
    "       return item / denom      \n",
    "    \n",
    "\n",
    "This code raises a ZeroDivisionError exception for the following call: \n",
    "    \n",
    "    FancyDivide([0, 2, 4], 0)\n",
    "\n",
    "Your task is to change the definition of SimpleDivide so that the call does not raise an exception. When dividing by 0, FancyDivide should return a list with all 0 elements. Any other error cases should still raise exceptions. You should only handle the ZeroDivisionError."
   ]
  },
  {
   "cell_type": "code",
   "execution_count": null,
   "metadata": {
    "collapsed": true
   },
   "outputs": [],
   "source": [
    "# Type your code here\n",
    "\n",
    "\n",
    "# Tests\n",
    "FancyDivide([0, 2, 4], 0) # [0, 0, 0]\n",
    "FancyDivide([0, 2, 4], 1) # [0, 1, 2]"
   ]
  }
 ],
 "metadata": {
  "kernelspec": {
   "display_name": "Python 3",
   "language": "python",
   "name": "python3"
  },
  "language_info": {
   "codemirror_mode": {
    "name": "ipython",
    "version": 3
   },
   "file_extension": ".py",
   "mimetype": "text/x-python",
   "name": "python",
   "nbconvert_exporter": "python",
   "pygments_lexer": "ipython3",
   "version": "3.4.3+"
  }
 },
 "nbformat": 4,
 "nbformat_minor": 0
}
