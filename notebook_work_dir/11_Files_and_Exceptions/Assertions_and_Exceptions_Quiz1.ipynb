{
 "cells": [
  {
   "cell_type": "markdown",
   "metadata": {},
   "source": [
    "What error (if any) is raised when the following code snippets are attempted?\n",
    "\n",
    "# 1\n",
    "\n",
    "    '1' / '2'\n",
    "    \n",
    "* SyntaxError  \n",
    "* ValueError  \n",
    "* TypeError  \n",
    "* NameError  \n",
    "* No error is raised\n",
    "\n",
    "# 2\n",
    "\n",
    "    '1' / 2\n",
    "    \n",
    "* SyntaxError  \n",
    "* ValueError  \n",
    "* TypeError  \n",
    "* NameError  \n",
    "* No error is raised\n",
    "\n",
    "# 3\n",
    "\n",
    "    int('1') / 2.0\n",
    "    \n",
    "* SyntaxError  \n",
    "* ValueError  \n",
    "* TypeError  \n",
    "* NameError  \n",
    "* No error is raised\n",
    "\n",
    "# 4\n",
    "\n",
    "    mylist = [10, 20, 30] \n",
    "    mylist.index(11)\n",
    "    \n",
    "* SyntaxError  \n",
    "* ValueError  \n",
    "* TypeError  \n",
    "* NameError  \n",
    "* No error is raised\n",
    "\n",
    "# 5\n",
    "\n",
    "    A=2 \n",
    "    3*a\n",
    "    \n",
    "* SyntaxError  \n",
    "* ValueError  \n",
    "* TypeError  \n",
    "* NameError  \n",
    "* No error is raised"
   ]
  }
 ],
 "metadata": {
  "kernelspec": {
   "display_name": "Python 3",
   "language": "python",
   "name": "python3"
  },
  "language_info": {
   "codemirror_mode": {
    "name": "ipython",
    "version": 3
   },
   "file_extension": ".py",
   "mimetype": "text/x-python",
   "name": "python",
   "nbconvert_exporter": "python",
   "pygments_lexer": "ipython3",
   "version": "3.4.3+"
  }
 },
 "nbformat": 4,
 "nbformat_minor": 0
}
