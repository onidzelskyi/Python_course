{
 "cells": [
  {
   "cell_type": "markdown",
   "metadata": {},
   "source": [
    "# Files and exceptions\n",
    "<pre>\n",
    "Для того чтобы открыть файл нужно:\n",
    "* Указать его уникальное имя (имя каталога и имя файла);\n",
    "* Указать режим доступа к файлу (чтение / запись).\n",
    "\n",
    "Операция открытия файла создает объект “файл”. \n",
    "В следующем примере, переменная f ссылается на новый объект “файл”\n",
    "</pre>"
   ]
  },
  {
   "cell_type": "code",
   "execution_count": null,
   "metadata": {
    "collapsed": false
   },
   "outputs": [],
   "source": [
    "f = open(\"test.dat\",\"w\")\n",
    "print f"
   ]
  },
  {
   "cell_type": "markdown",
   "metadata": {},
   "source": [
    "<pre>\n",
    "Функция <i>open</i> принимает два аргумента:\n",
    "* имя файла;\n",
    "* режим доступа. \"w\" указывает на то, что мы открыли файл на запись.\n",
    "\n",
    "Если файл с заданным именем (\"test.dat\" в нашем примере) не существует на диске, он будет создан.\n",
    "Если файл с заданным именем существует, то он будет перезаписан (заменен нашим).\n",
    "Когда мы печатаем объект файла, мы видим имя файла, режим доступа к нему а также адрес местонахождения объекта в памяти.\n",
    "\n",
    "Чтобы записать в файл данные, мы используется метод <i>write</i> объекта <i>файл</i>.\n",
    "</pre>"
   ]
  },
  {
   "cell_type": "code",
   "execution_count": null,
   "metadata": {
    "collapsed": true
   },
   "outputs": [],
   "source": [
    "f.write(\"Now is the time\")\n",
    "f.write(\"to close the file\")"
   ]
  },
  {
   "cell_type": "markdown",
   "metadata": {},
   "source": [
    "<pre>\n",
    "Закрытие файла сообщает системе о том, что мы закончили запись в файл, что делает файл доступным для чтения из него:\n",
    "</pre>"
   ]
  },
  {
   "cell_type": "code",
   "execution_count": null,
   "metadata": {
    "collapsed": true
   },
   "outputs": [],
   "source": [
    "f.close()"
   ]
  },
  {
   "cell_type": "markdown",
   "metadata": {},
   "source": [
    "<pre>\n",
    "Теперь мы можем открыть файл снова, на этот раз дл ячтения из него, и прочитать содержимое файла в строку.\n",
    "На этот раз режим доступа для чтения \"r\":\n",
    "</pre>"
   ]
  },
  {
   "cell_type": "code",
   "execution_count": null,
   "metadata": {
    "collapsed": true
   },
   "outputs": [],
   "source": [
    "f = open(\"test.dat\",\"r\")"
   ]
  },
  {
   "cell_type": "markdown",
   "metadata": {},
   "source": [
    "<pre>\n",
    "Если мы попытаемся открыть несуществующий файл, мы получим ошибку:\n",
    "</pre>"
   ]
  },
  {
   "cell_type": "code",
   "execution_count": null,
   "metadata": {
    "collapsed": false
   },
   "outputs": [],
   "source": [
    "f = open(\"test.cat\",\"r\")"
   ]
  },
  {
   "cell_type": "markdown",
   "metadata": {},
   "source": [
    "<pre>\n",
    "Метод <i>read</i> читает содержимое файла. \n",
    "Вызов метода <i>read</i> без аргументов приводит к тому, что вычитывается содержимое всего файла:\n",
    "</pre>"
   ]
  },
  {
   "cell_type": "code",
   "execution_count": null,
   "metadata": {
    "collapsed": false
   },
   "outputs": [],
   "source": [
    "text = f.read()\n",
    "print text"
   ]
  },
  {
   "cell_type": "markdown",
   "metadata": {},
   "source": [
    "<pre>\n",
    "Обратите внимание, что между словами <i>time</i> и <i>to</i> нет пробела, так как мы его не записывали между строками в файл.\n",
    "\n",
    "Метод <i>read</i> также может принимать аргумент, указывающий, сколько символов необходимо прочитать:\n",
    "</pre>"
   ]
  },
  {
   "cell_type": "code",
   "execution_count": null,
   "metadata": {
    "collapsed": false
   },
   "outputs": [],
   "source": [
    "f = open(\"test.dat\",\"r\")\n",
    "print f.read(5)"
   ]
  },
  {
   "cell_type": "markdown",
   "metadata": {},
   "source": [
    "<pre>\n",
    "Если в файле осталось символов меньше, чем задано аргументом метода <i>read</i>, вернутся оставшиеся символы.\n",
    "</pre>"
   ]
  },
  {
   "cell_type": "code",
   "execution_count": null,
   "metadata": {
    "collapsed": false
   },
   "outputs": [],
   "source": [
    "print f.read(1000006)"
   ]
  },
  {
   "cell_type": "markdown",
   "metadata": {},
   "source": [
    "<pre>\n",
    "Когда будет достигнут конец файла, вернется пустая строка:\n",
    "</pre>"
   ]
  },
  {
   "cell_type": "code",
   "execution_count": null,
   "metadata": {
    "collapsed": false
   },
   "outputs": [],
   "source": [
    "print f.read()"
   ]
  },
  {
   "cell_type": "markdown",
   "metadata": {},
   "source": [
    "<pre>\n",
    "Следующая функция копирует файл, вычитывая и записывая по 50 символов за один раз.\n",
    "\n",
    "Аргументы функции:\n",
    "* Имя входного файла (source / input);\n",
    "* Имя выходного файла (destination / output)\n",
    "</pre>"
   ]
  },
  {
   "cell_type": "code",
   "execution_count": null,
   "metadata": {
    "collapsed": true
   },
   "outputs": [],
   "source": [
    "def copyFile(oldFile, newFile):\n",
    "    f1 = open(oldFile, \"r\")\n",
    "    f2 = open(newFile, \"w\")\n",
    "    while True:\n",
    "        text = f1.read(50)\n",
    "        if text == \"\":\n",
    "            break\n",
    "        f2.write(text)\n",
    "    f1.close()\n",
    "    f2.close()\n",
    "    return"
   ]
  },
  {
   "cell_type": "markdown",
   "metadata": {},
   "source": [
    "<pre>\n",
    "Инструкция <i>break</i> приводит к выходу из цикла. Выполнение передается на инструкцию, следующую за циклом.\n",
    "\n",
    "В данном примере цикл <i>while</i> бесконечный так как значение <i>True</i> всегда <i>true</i>. \n",
    "Выход из цикла возможен только при условии что строка <i>text</i> окажется пустой, а это возможно только в случае, когда будет достигнут конец файла.\n",
    "\n",
    "В качестве упражнения используйте функцию <i>copyFile</i> для создания копии файла <i>test.dat</i> под названием <i>copy_of_test.dat</i>\n",
    "</pre>\n"
   ]
  },
  {
   "cell_type": "code",
   "execution_count": null,
   "metadata": {
    "collapsed": true
   },
   "outputs": [],
   "source": [
    "# Type your code here\n"
   ]
  },
  {
   "cell_type": "markdown",
   "metadata": {},
   "source": [
    "# 1. Text files\n",
    "\n",
    "<pre>\n",
    "Текстовый файл - файл, содержащий печатные символы и пробелы, сгруппированные в строки, разделенные символами новой строки.\n",
    "\n",
    "Python предоставляет легкие и изящные способы работы с текстовыми файлами.\n",
    "\n",
    "Чтобы продемонстрировать это, создадим текстовый файл с тремя строками текста, разделенными символами новой строки:\n",
    "</pre>"
   ]
  },
  {
   "cell_type": "code",
   "execution_count": null,
   "metadata": {
    "collapsed": true
   },
   "outputs": [],
   "source": [
    "f = open(\"test.dat\",\"w\")\n",
    "f.write(\"line one\\nline two\\nline three\\n\")\n",
    "f.close()"
   ]
  },
  {
   "cell_type": "markdown",
   "metadata": {},
   "source": [
    "<pre>\n",
    "Метод <i>readline</i> вычитывает все символы до символа новой строки включительно:\n",
    "</pre>"
   ]
  },
  {
   "cell_type": "code",
   "execution_count": null,
   "metadata": {
    "collapsed": false
   },
   "outputs": [],
   "source": [
    "f = open(\"test.dat\",\"r\")\n",
    "print f.readline()"
   ]
  },
  {
   "cell_type": "markdown",
   "metadata": {},
   "source": [
    "<pre>\n",
    "Метод <i>readlines</i> возвращает все оставшиеся строки в виде списка строк:\n",
    "</pre>"
   ]
  },
  {
   "cell_type": "code",
   "execution_count": null,
   "metadata": {
    "collapsed": false
   },
   "outputs": [],
   "source": [
    "print f.readlines()"
   ]
  },
  {
   "cell_type": "markdown",
   "metadata": {},
   "source": [
    "<pre>\n",
    "В данном случае вывод представлен в виде списка, означающем, что строки представлены в кавычках,\n",
    "а символ новой строки представлен в виде '\\n'.\n",
    "\n",
    "По достижении конца файла метод <i>readline</i> возвращает пустую строку\n",
    "а метод <i>readlines</i> возвращает пустой список:\n",
    "</pre>"
   ]
  },
  {
   "cell_type": "code",
   "execution_count": null,
   "metadata": {
    "collapsed": false
   },
   "outputs": [],
   "source": [
    "print f.readline()\n",
    "print f.readlines()\n",
    "f.close()"
   ]
  },
  {
   "cell_type": "markdown",
   "metadata": {},
   "source": [
    "<pre>\n",
    "Ниже представлен пример программы построчного процессинга файла.\n",
    "<i>filterFile</i> создает копию <i>oldFile</i>,\n",
    "пропуская строки, начинающиеся с \"#\":\n",
    "</pre>"
   ]
  },
  {
   "cell_type": "code",
   "execution_count": null,
   "metadata": {
    "collapsed": false
   },
   "outputs": [],
   "source": [
    "def filterFile(oldFile, newFile):\n",
    "    f1 = open(oldFile, \"r\")\n",
    "    f2 = open(newFile, \"w\")\n",
    "    while True:\n",
    "        text = f1.readline()\n",
    "        if text == \"\":\n",
    "            break\n",
    "        if text[0] == '#':\n",
    "            continue\n",
    "        f2.write(text)\n",
    "    f1.close()\n",
    "    f2.close()\n",
    "    return"
   ]
  },
  {
   "cell_type": "markdown",
   "metadata": {},
   "source": [
    "<pre>\n",
    "Инструкция <i>continue</i> прерывает текущую итерацию цикла, но цикл продолжается со следующей итерации.\n",
    "Выполнение программы передается на начало цикла,\n",
    "затем проверяется условие и и выполняется инструкция , соответсвующая результату условия.\n",
    "\n",
    "Таким образом, если <i>text</i> является пустой строкой, цикл прекращается.\n",
    "Если первый символ <i>text</i> является символом '#', управление передается на начало цикла для следующей итерации.\n",
    "И только если оба условия не выполняются, мы копируем <i>text</i> в новый файл.\n",
    "\n",
    "В качестве упражнения создайте файл и запишите в него следующие строки:\n",
    "\n",
    "    First line\n",
    "    # This line will be omitted\n",
    "    # This line omitted too\n",
    "    Second line\n",
    "    \n",
    "Используя функцию filterFile скопируйте созданный вами файл в другой и изучите его содержимое.\n",
    "Содержимое результирующего файла должно представлять собой \n",
    "\n",
    "    First line\n",
    "    Second line    \n",
    "</pre>\n"
   ]
  },
  {
   "cell_type": "code",
   "execution_count": null,
   "metadata": {
    "collapsed": false
   },
   "outputs": [],
   "source": [
    "# Type your code here\n"
   ]
  },
  {
   "cell_type": "markdown",
   "metadata": {},
   "source": [
    "# 2. Writing variables\n",
    "\n",
    "<pre>\n",
    "Аргументом метода <i>write</i> должна быть строка, \n",
    "так что если вы хотите поместить в файл значения других типов, вы должны прежде конвертировать их строку.\n",
    "Самый простой способ конвертации - это использовать <i>str</i> функцию.\n",
    "</pre>"
   ]
  },
  {
   "cell_type": "code",
   "execution_count": null,
   "metadata": {
    "collapsed": false
   },
   "outputs": [],
   "source": [
    "f = open(\"test.dat\",\"w\")\n",
    "x = 52\n",
    "f.write (str(x))"
   ]
  },
  {
   "cell_type": "markdown",
   "metadata": {},
   "source": [
    "<pre>\n",
    "В качестве альтернативы можно использовать оператор форматирования <i>%</i>.\n",
    "В случяе применения к целым числам, <i>%</i> является оператором остатка от деления (modulus operator). \n",
    "В случае, когда првым операндом является строка, <i>%</i> становется оператором форматирования.\n",
    "\n",
    "Первым операндом является строка, а вторым - котеж выражений (tuple).\n",
    "Результатом является строка, содержащая значения выражений в формате, соответствующей формату строки.\n",
    "\n",
    "Например, формат <i>%d</i> означает, что первым элементом кортежа должен быть представлен в виде числа.\n",
    "Символ <i>d</i> обозначает <i>decimal</i> (десятичное):\n",
    "</pre>"
   ]
  },
  {
   "cell_type": "code",
   "execution_count": null,
   "metadata": {
    "collapsed": false
   },
   "outputs": [],
   "source": [
    "cars = 52\n",
    "\"%d\" % cars"
   ]
  },
  {
   "cell_type": "markdown",
   "metadata": {},
   "source": [
    "<pre>\n",
    "Результатом будет строка <i>'52'</i>.\n",
    "Форматтеры могут располагаться в любом месте строки,\n",
    "то есть мы можем представить данное значение в форме:\n",
    "</pre>"
   ]
  },
  {
   "cell_type": "code",
   "execution_count": null,
   "metadata": {
    "collapsed": false
   },
   "outputs": [],
   "source": [
    "cars = 52\n",
    "\"In July we sold %d cars.\" % cars"
   ]
  },
  {
   "cell_type": "markdown",
   "metadata": {},
   "source": [
    "<pre>\n",
    "Следующий форматтер <i>%f</i> представляет следующий элемент в кортеже в качестве числа с плавающей точкой,\n",
    "а следующий за ним форматтер <i>%s</i> представляет третий элемент кортежа в качестве строки:\n",
    "</pre>"
   ]
  },
  {
   "cell_type": "code",
   "execution_count": null,
   "metadata": {
    "collapsed": false
   },
   "outputs": [],
   "source": [
    "\"In %d days we made %f million %s.\" % (34, 6.1, 'dollars')"
   ]
  },
  {
   "cell_type": "markdown",
   "metadata": {},
   "source": [
    "<pre>\n",
    "По умолчанию, числа с плавающей точкой представлены в виде 6 знаков после запятой.\n",
    "Число выражений в кортеже должно соответствовать количеству форматтеров в строке.\n",
    "Также, должны соответствовать типы форматтера и выражения:\n",
    "</pre>"
   ]
  },
  {
   "cell_type": "code",
   "execution_count": null,
   "metadata": {
    "collapsed": false
   },
   "outputs": [],
   "source": [
    "\"%d %d %d\" % (1,2) # Error"
   ]
  },
  {
   "cell_type": "code",
   "execution_count": null,
   "metadata": {
    "collapsed": false
   },
   "outputs": [],
   "source": [
    "\"%d\" % \"dollars\" # Error"
   ]
  },
  {
   "cell_type": "markdown",
   "metadata": {},
   "source": [
    "<pre>\n",
    "Также, в форматтере можно указать количество отображаемых цифр:\n",
    "</pre>"
   ]
  },
  {
   "cell_type": "code",
   "execution_count": null,
   "metadata": {
    "collapsed": false
   },
   "outputs": [],
   "source": [
    "\"%6d\" % 62"
   ]
  },
  {
   "cell_type": "code",
   "execution_count": null,
   "metadata": {
    "collapsed": false
   },
   "outputs": [],
   "source": [
    "\"%12f\" % 6.1"
   ]
  },
  {
   "cell_type": "markdown",
   "metadata": {},
   "source": [
    "<pre>\n",
    "Цифра после <i>%</i> определяет минимальное количество пробелов, которое будет занимать результирующее число.\n",
    "Если число имеет меньше цифр, к нему добавляются пробелы в начало.\n",
    "Если число в форматтере отрицательное, пробелы добавляются в конец числа:\n",
    "</pre>"
   ]
  },
  {
   "cell_type": "code",
   "execution_count": null,
   "metadata": {
    "collapsed": false
   },
   "outputs": [],
   "source": [
    "\"%-6d\" % 62"
   ]
  },
  {
   "cell_type": "markdown",
   "metadata": {},
   "source": [
    "<pre>\n",
    "Для чисел с плавающей точкой можно также указать количество значащих цифр после запятой:\n",
    "</pre>"
   ]
  },
  {
   "cell_type": "code",
   "execution_count": null,
   "metadata": {
    "collapsed": false
   },
   "outputs": [],
   "source": [
    "\"%12.2f\" % 6.1"
   ]
  },
  {
   "cell_type": "markdown",
   "metadata": {},
   "source": [
    "<pre>\n",
    "В качестве примера представим себе словарь, содержащий имена студентов в качестве ключа\n",
    "и почасовую ставку в качестве значения.\n",
    "Ниже представлен пример функции, отображающей содержимое словаря в отформатированном виде:\n",
    "</pre>"
   ]
  },
  {
   "cell_type": "code",
   "execution_count": null,
   "metadata": {
    "collapsed": true
   },
   "outputs": [],
   "source": [
    "def report (wages) :\n",
    "    students = wages.keys()\n",
    "    students.sort()\n",
    "    for student in students :\n",
    "        print \"%-20s %12.2f\" % (student, wages[student])\n",
    "        #print(\"{:20s} {:12.2f}\".format(student, wages[student]))"
   ]
  },
  {
   "cell_type": "markdown",
   "metadata": {},
   "source": [
    "<pre>\n",
    "Для демонстрации работы данной функции создадим небольшой словарь\n",
    "и напечатаем его содержимое:\n",
    "</pre>"
   ]
  },
  {
   "cell_type": "code",
   "execution_count": null,
   "metadata": {
    "collapsed": false
   },
   "outputs": [],
   "source": [
    "wages = {'mary': 6.23, 'joe': 5.45, 'joshua': 4.25}\n",
    "report (wages)"
   ]
  },
  {
   "cell_type": "markdown",
   "metadata": {},
   "source": [
    "# 3 Directories\n",
    "<pre>\n",
    "При создании нового файла путем открытия его на запись,\n",
    "новый файл создается в текущей директории (директории, в которой вы находитесь в данный момент и из которой запущена ваша программа).\n",
    "\n",
    "Точно так же, когда вы открываете файл для чтения,\n",
    "Python ищет его в текущей директории.\n",
    "\n",
    "Если вы хотите открыть файл, который находится за пределами текущей директории,\n",
    "вы должны указать полнуй путь к этому файлу,\n",
    "который состоит из имени директории, где находится файл:\n",
    "</pre>"
   ]
  },
  {
   "cell_type": "code",
   "execution_count": null,
   "metadata": {
    "collapsed": false
   },
   "outputs": [],
   "source": [
    "f = open(\"/usr/share/dict/words\",\"r\")\n",
    "print f.readline()\n",
    "f.close()"
   ]
  },
  {
   "cell_type": "markdown",
   "metadata": {},
   "source": [
    "# 4 Pickling\n",
    "<pre>\n",
    "Прежде чем поместить данные в файл их необходимо конвертировать в строки.\n",
    "</pre>"
   ]
  },
  {
   "cell_type": "code",
   "execution_count": null,
   "metadata": {
    "collapsed": true
   },
   "outputs": [],
   "source": [
    "f = open(\"test.dat\", \"w\")\n",
    "f.write (str(12.3))\n",
    "f.write (str([1,2,3]))\n",
    "f.close()"
   ]
  },
  {
   "cell_type": "markdown",
   "metadata": {},
   "source": [
    "<pre>\n",
    "Проблема возникает при вычитке значения обратно из файла вы получаете строку.\n",
    "Исходный тип значения был утерян.\n",
    "Также, нельзя сказать где заканчивается одно значение и начинается другое:\n",
    "</pre>"
   ]
  },
  {
   "cell_type": "code",
   "execution_count": null,
   "metadata": {
    "collapsed": false
   },
   "outputs": [],
   "source": [
    "f = open(\"test.dat\", \"r\")\n",
    "data = f.readline()\n",
    "print data\n",
    "f.close()"
   ]
  },
  {
   "cell_type": "markdown",
   "metadata": {},
   "source": [
    "<pre>\n",
    "Решением проблемы может быть запаковка данных (pickling).\n",
    "Запаковка данных позволяет сохранить структуру данных.\n",
    "Модуль <i>pickle</i> содержит все необходимые для этого методы.\n",
    "</pre>"
   ]
  },
  {
   "cell_type": "code",
   "execution_count": null,
   "metadata": {
    "collapsed": true
   },
   "outputs": [],
   "source": [
    "import pickle\n",
    "f = open(\"test.pck\",\"w\")"
   ]
  },
  {
   "cell_type": "markdown",
   "metadata": {},
   "source": [
    "<pre>\n",
    "Чтобы сохранить структуру данных, используется метод <i>dump</i>:\n",
    "</pre>"
   ]
  },
  {
   "cell_type": "code",
   "execution_count": null,
   "metadata": {
    "collapsed": true
   },
   "outputs": [],
   "source": [
    "pickle.dump(12.3, f)\n",
    "pickle.dump([1,2,3], f)\n",
    "f.close()"
   ]
  },
  {
   "cell_type": "markdown",
   "metadata": {},
   "source": [
    "<pre>\n",
    "Затем, мы можем открыть файл для чтения и загрузить структуру данных, которую мы ранее задампировали:\n",
    "</pre>"
   ]
  },
  {
   "cell_type": "code",
   "execution_count": null,
   "metadata": {
    "collapsed": false
   },
   "outputs": [],
   "source": [
    "f = open(\"test.pck\",\"r\")\n",
    "x = pickle.load(f)\n",
    "print x, type(x)\n",
    "y = pickle.load(f)\n",
    "print y, type(y)"
   ]
  },
  {
   "cell_type": "markdown",
   "metadata": {},
   "source": [
    "<pre>\n",
    "Каждый раз при вызове метода <i>load</i> мы получаем одну запись из файла в соответствии с исходным значением.\n",
    "</pre>\n",
    "\n",
    "# 5. Exceptions\n",
    "\n",
    "<pre>\n",
    "Каждый раз при возникновении ошибки кидается исключение.\n",
    "Зачастую, выполнение программы останавливается и Python печатает сообщение об ошибке.\n",
    "Например,деление на ноль кидает исключение:\n",
    "</pre>"
   ]
  },
  {
   "cell_type": "code",
   "execution_count": null,
   "metadata": {
    "collapsed": false
   },
   "outputs": [],
   "source": [
    "print 55/0"
   ]
  },
  {
   "cell_type": "markdown",
   "metadata": {},
   "source": [
    "<pre>\n",
    "Так же как попытка обратиться к несуществующему элементу списка:\n",
    "</pre>"
   ]
  },
  {
   "cell_type": "code",
   "execution_count": null,
   "metadata": {
    "collapsed": false
   },
   "outputs": [],
   "source": [
    "a = []\n",
    "print a[5]"
   ]
  },
  {
   "cell_type": "markdown",
   "metadata": {},
   "source": [
    "<pre>\n",
    "Или попытаться обратиться к словарю по несуществующему ключу:\n",
    "</pre>"
   ]
  },
  {
   "cell_type": "code",
   "execution_count": null,
   "metadata": {
    "collapsed": false
   },
   "outputs": [],
   "source": [
    "b = {}\n",
    "print b[\"what\"]"
   ]
  },
  {
   "cell_type": "markdown",
   "metadata": {},
   "source": [
    "<pre>\n",
    "Или попытаться открыть несуществующий файл на чтение:\n",
    "</pre>"
   ]
  },
  {
   "cell_type": "code",
   "execution_count": null,
   "metadata": {
    "collapsed": false
   },
   "outputs": [],
   "source": [
    "f = open(\"Idontexist\", \"r\")"
   ]
  },
  {
   "cell_type": "markdown",
   "metadata": {},
   "source": [
    "<pre>\n",
    "В каждом из описанных случаев сообщение об ошибке состоит из двух частей:\n",
    " * Тип ошибки слева от двоеточия;\n",
    " * Описание ошики после двоеточия\n",
    " \n",
    "В большинстве случаев Python также печатает стек вызовов, где возникло исключение.\n",
    "\n",
    "Иногда нам может понадобиться выполнить операцию, которая может вызвать исключение,\n",
    "но мы не хотим, чтобы программа прекращала свою работу.\n",
    "\n",
    "Мы можем обрабатывать исключения, используя инструкции <i>try</i> и <i>except</i>.\n",
    "\n",
    "Например, мы можем запросить у пользователя имя файла и, затем, попытаться открыть его на чтение.\n",
    "Если файл с указанным именем не существует мы не хотим, чтобы программа завершалась аварийно;\n",
    "мы хотим обработать исключение:\n",
    "</pre>"
   ]
  },
  {
   "cell_type": "code",
   "execution_count": null,
   "metadata": {
    "collapsed": false
   },
   "outputs": [],
   "source": [
    "filename = raw_input(\"Enter a file name: \")\n",
    "try:\n",
    "    f = open (filename, \"r\")\n",
    "except IOError:\n",
    "    print \"There is no file named\", filename"
   ]
  },
  {
   "cell_type": "markdown",
   "metadata": {},
   "source": [
    "<pre>\n",
    "Инструкция <i>try</i> выполняет инструкции в первом блоке.\n",
    "\n",
    "Если исключение не взникнет, инструкция <i>except</i> будет проигнорирована.\n",
    "\n",
    "Если возникнет исключение типа <i>IOError</i>, то будут выполнены инструкции блока <i>except</i> и, затем, программа продолжит свою работу.\n",
    "\n",
    "Мы можем инкапсулировать эту возможность в тело функции:\n",
    "\n",
    "<i>exists</i> принимает параметр <i>filename</i> и возвращает True если файл существует,\n",
    "и False, если файл не существует:\n",
    "</pre>"
   ]
  },
  {
   "cell_type": "code",
   "execution_count": null,
   "metadata": {
    "collapsed": false
   },
   "outputs": [],
   "source": [
    "def exists(filename):\n",
    "    try:\n",
    "        f = open(filename)\n",
    "        f.close()\n",
    "        return True\n",
    "    except IOError:\n",
    "        return False"
   ]
  },
  {
   "cell_type": "markdown",
   "metadata": {},
   "source": [
    "<pre>\n",
    "Можно использовать несколько блоков <i>except</i> для обработки разных типов исключений.\n",
    "\n",
    "Если программа обнаружила ошибку, возможно программно бросить исключение.\n",
    "\n",
    "Ниже приведен пример программы, принимающей ввод от пользователя и сравнивающей его значение с числом 17.\n",
    "Предположим, что 17 является невалидным значением в данной программе и программа кидает исключение:\n",
    "</pre>"
   ]
  },
  {
   "cell_type": "code",
   "execution_count": null,
   "metadata": {
    "collapsed": false
   },
   "outputs": [],
   "source": [
    "def input_number() :\n",
    "    x = input (\"Pick a number: \")\n",
    "    if x == 17 :\n",
    "        raise ValueError, \"17 is a bad number\"\n",
    "    return x"
   ]
  },
  {
   "cell_type": "markdown",
   "metadata": {},
   "source": [
    "<pre>\n",
    "Инструкция <i>raise</i> принимает два аргумента:\n",
    "* Тип исключения;\n",
    "* Описание возникшей ошибки, которое увидит пользователь.\n",
    "\n",
    "<i>ValueError</i> является одним из типов исключений Python для разных случаев.\n",
    "\n",
    "Другим примером типа исключения являются <i>TypeError</i>, <i>KeyError</i>, <i>NotImplementedError</i> и другие.\n",
    "\n",
    "Если функция, вызывающая <i>input_number</i> обрабатывает ошибки, то программа продолжит свою работу после ее вызова;\n",
    "иначе, Python напечатает сообщение об ошибке и завершит работу программы:\n",
    "</pre>"
   ]
  },
  {
   "cell_type": "code",
   "execution_count": null,
   "metadata": {
    "collapsed": false
   },
   "outputs": [],
   "source": [
    "input_number()"
   ]
  },
  {
   "cell_type": "markdown",
   "metadata": {},
   "source": [
    "<pre>\n",
    "В качестве упражнения напишите функцию, которая использует <i>input_number</i> для ввода числа с клавиатуры \n",
    "и обрабатывает <i>ValueError</i> исключение.\n",
    "</pre>"
   ]
  },
  {
   "cell_type": "code",
   "execution_count": null,
   "metadata": {
    "collapsed": false
   },
   "outputs": [],
   "source": [
    "# Type your code here\n"
   ]
  },
  {
   "cell_type": "markdown",
   "metadata": {
    "collapsed": true
   },
   "source": [
    "# 6 Glossary\n",
    "\n",
    "* file: A named entity, usually stored on a hard drive, floppy disk, or CD-ROM, that contains a stream of characters.\n",
    "directory: A named collection of files, also called a folder.\n",
    "* path: A sequence of directory names that specifies the exact location of a file.\n",
    "* text file: A file that contains printable characters organized into lines separated by newline characters.\n",
    "* break statement: A statement that causes the flow of execution to exit a loop.\n",
    "* continue statement: A statement that causes the current iteration of a loop to end. The flow of execution goes to the top of the loop, evaluates the condition, and proceeds accordingly.\n",
    "* format operator: The % operator takes a format string and a tuple of expres- sions and yields a string that includes the expressions, formatted according to the format string.\n",
    "* format string: A string that contains printable characters and format sequences that indicate how to format values.\n",
    "* format sequence: A sequence of characters beginning with % that indicates how to format a value.\n",
    "* pickle: To write a data value in a file along with its type information so that it can be reconstituted later.\n",
    "* exception: An error that occurs at runtime.\n",
    "* handle: To prevent an exception from terminating a program using the try and except statements.\n",
    "* raise: To signal an exception using the raise statement."
   ]
  }
 ],
 "metadata": {
  "kernelspec": {
   "display_name": "Python 2",
   "language": "python",
   "name": "python2"
  },
  "language_info": {
   "codemirror_mode": {
    "name": "ipython",
    "version": 2
   },
   "file_extension": ".py",
   "mimetype": "text/x-python",
   "name": "python",
   "nbconvert_exporter": "python",
   "pygments_lexer": "ipython2",
   "version": "2.7.10"
  }
 },
 "nbformat": 4,
 "nbformat_minor": 0
}
