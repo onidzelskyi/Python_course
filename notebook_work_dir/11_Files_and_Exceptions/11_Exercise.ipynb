{
 "cells": [
  {
   "cell_type": "markdown",
   "metadata": {},
   "source": [
    "# 1. Работа со строками: поиск в строке и извлечение фрагмента\n",
    "<pre>\n",
    "Напишите код, используя метод find() и фрагменты строк для извлечения числа в виде числа с плавающей точкой в конце строки ниже.\n",
    "<code>\n",
    "Input:\n",
    "    text = \"X-DSPAM-Confidence:    0.8475\"\n",
    "Output:\n",
    "    0.8475\n",
    "</code>\n",
    "</pre>"
   ]
  },
  {
   "cell_type": "code",
   "execution_count": null,
   "metadata": {
    "collapsed": false
   },
   "outputs": [],
   "source": [
    "# Напишите Ваш код здесь\n"
   ]
  },
  {
   "cell_type": "markdown",
   "metadata": {},
   "source": [
    "# 2. Напишите программу, которая запрашивает у пользователя имя файла, затем открывает указанный файл и выводит на печать содержимое файла в верхнем регистре"
   ]
  },
  {
   "cell_type": "code",
   "execution_count": null,
   "metadata": {
    "collapsed": false
   },
   "outputs": [],
   "source": [
    "fname = raw_input(\"Enter file name: \")\n",
    "fh = open(fname)\n",
    "# Напишите ваш код ниже\n"
   ]
  },
  {
   "cell_type": "markdown",
   "metadata": {},
   "source": [
    "# 3. Поиск строки в файле\n",
    "Напишите программу, которая запрашивает у пользователя имя файла, затем открывает указанный файл и осуществляет поиск строк вида\n",
    "<pre>\n",
    "X-DSPAM-Confidence:    0.8475\n",
    "</pre>\n",
    "Продсчитывает количество этих строк и извлекает число с плавающей точкой из каждой такой строки, вычисляет среднее значение и выводит его на экран.\n",
    "\n",
    "<pre>\n",
    "Ввод: \n",
    "    mbox-short.txt\n",
    "Вывод: \n",
    "    Average spam confidence: 0.750718518519\n",
    "    \n",
    "Вы можете скачать файл здесь: http://www.pythonlearn.com/code/mbox-short.txt\n",
    "</pre>"
   ]
  },
  {
   "cell_type": "code",
   "execution_count": null,
   "metadata": {
    "collapsed": false
   },
   "outputs": [],
   "source": [
    "# Use the file name mbox-short.txt as the file name\n",
    "fname = raw_input(\"Enter file name: \")\n",
    "fh = open(fname)\n",
    "for line in fh:\n",
    "    if not line.startswith(\"X-DSPAM-Confidence:\") : continue\n",
    "    print line\n",
    "print \"Done\""
   ]
  },
  {
   "cell_type": "markdown",
   "metadata": {
    "collapsed": true
   },
   "source": [
    "# 4. Файлы и списки\n",
    "<pre>\n",
    "1. Откройте файл romeo.txt и прочитайте его прстрочно.\n",
    "2. Для каждой строки разбейте строку на слова, испоьзуя string метод split(). Программа должна построить список слов.\n",
    "3. Для каждого слова в каждой строке проверить, присутствует ли данное слово в списке и если нет, то добавить его в список.\n",
    "4. В конце отсортировать список в алфавитном порядке и вывести на консоль\n",
    "\n",
    "Вы можете скачать файл здесь: http://www.pythonlearn.com/code/romeo.txt\n",
    "</pre>"
   ]
  },
  {
   "cell_type": "code",
   "execution_count": null,
   "metadata": {
    "collapsed": true
   },
   "outputs": [],
   "source": [
    "# Модифицируйте эту программу\n",
    "fname = raw_input(\"Enter file name: \")\n",
    "fh = open(fname)\n",
    "lst = list()\n",
    "for line in fh:\n",
    "    print line.rstrip()"
   ]
  },
  {
   "cell_type": "markdown",
   "metadata": {},
   "source": [
    "# 5. Файлы и поиск подстроки\n",
    "<pre>\n",
    "1. Откройте файл mbox-short.txt\n",
    "2. Прочитайте его построчно\n",
    "3. Найдите строку, начинающуюся с \"From \", например:\n",
    "    From stephen.marquard@uct.ac.za Sat Jan  5 09:14:16 2008\n",
    "4. Разбейте найденную строку, используя метод split() и выведите на печать второе слово строки (то есть емейл адрес)\n",
    "5. Напечатайте количество найденных строк.\n",
    "    Подсказка: не включайте строки, начинающиеся с \"From:\"\n",
    "Вы можете скачать файл здесь: http://www.pythonlearn.com/code/mbox-short.txt\n",
    "</pre>"
   ]
  },
  {
   "cell_type": "code",
   "execution_count": null,
   "metadata": {
    "collapsed": false
   },
   "outputs": [],
   "source": [
    "# Модифицируйте код ниже\n",
    "fname = raw_input(\"Enter file name: \")\n",
    "if len(fname) < 1 : fname = \"mbox-short.txt\"\n",
    "\n",
    "fh = open(fname)\n",
    "count = 0\n",
    "\n",
    "print \"There were {} lines in the file with From as the first word\".format(count)"
   ]
  }
 ],
 "metadata": {
  "kernelspec": {
   "display_name": "Python 2",
   "language": "python",
   "name": "python2"
  },
  "language_info": {
   "codemirror_mode": {
    "name": "ipython",
    "version": 2
   },
   "file_extension": ".py",
   "mimetype": "text/x-python",
   "name": "python",
   "nbconvert_exporter": "python",
   "pygments_lexer": "ipython2",
   "version": "2.7.10"
  }
 },
 "nbformat": 4,
 "nbformat_minor": 0
}
